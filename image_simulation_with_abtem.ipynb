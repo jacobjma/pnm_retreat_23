{
 "cells": [
  {
   "cell_type": "markdown",
   "id": "9eb2f2a6",
   "metadata": {},
   "source": [
    "# Introduction to multislice simulations with *ab*TEM - basics\n",
    "\n",
    "This tutorial is a short introduction to image simulation with *ab*TEM. The tutorial covers some basic principles such as potential and wave functions and presents examples for CBED, STEM and HRTEM and simulations. For more in depth information, see the following resources:\n",
    "\n",
    "* [The abTEM documentation](https://abtem.github.io/doc/intro.html)\n",
    "* [The abTEM walkthrough](https://abtem.github.io/doc/user_guide/walkthrough/walkthrough.html)\n",
    "\n",
    "### Contents:\n",
    "\n",
    "1. <a href='#import'> Import atomic model\n",
    "2. <a href='#potentials'> Potentials with the IAM\n",
    "3. <a href='#probes'> Probe wave functions\n",
    "5. <a href='#multislice'> Multislice simulation with Probe\n",
    "6. <a href='#scan'> Scanned multislice simulation"
   ]
  },
  {
   "cell_type": "code",
   "execution_count": null,
   "id": "6448b3c6-5179-437c-a70c-61ff1e3a6e51",
   "metadata": {},
   "outputs": [],
   "source": [
    "%matplotlib ipympl\n",
    "\n",
    "import abtem\n",
    "import ase\n",
    "import matplotlib.pyplot as plt\n",
    "import numpy as np\n",
    "\n",
    "abtem.config.set({\"visualize.cmap\": \"viridis\"})\n",
    "abtem.config.set({\"visualize.continuous_update\": True})\n",
    "abtem.config.set({\"visualize.autoscale\": True})\n",
    "abtem.config.set({\"device\": \"cpu\"})\n",
    "abtem.config.set({\"fft\": \"fftw\"})"
   ]
  },
  {
   "cell_type": "code",
   "execution_count": null,
   "id": "b20f7bf4-1530-45cd-aec5-be274d77a5e8",
   "metadata": {},
   "outputs": [],
   "source": [
    "abtem.__version__"
   ]
  },
  {
   "cell_type": "markdown",
   "id": "3841be6f",
   "metadata": {},
   "source": [
    "## Import atomic model <a id='import'></a>\n",
    "\n",
    "To start running image simulations, we need an atomic model. Creating an atomic model is covered in \"atomic_models_with_ase.ipynb\", if you do not have the file \"sto_lto.cif\", please run that notebook first."
   ]
  },
  {
   "cell_type": "code",
   "execution_count": null,
   "id": "6361c021",
   "metadata": {},
   "outputs": [],
   "source": [
    "atoms = ase.io.read(\"sto_lto.cif\")\n",
    "\n",
    "fig, (ax1, ax2) = plt.subplots(1, 2)\n",
    "abtem.show_atoms(atoms, ax=ax1, plane=\"xy\", title=\"Beam view\", legend=True)\n",
    "abtem.show_atoms(atoms, ax=ax2, plane=\"yz\", title=\"Side view\")"
   ]
  },
  {
   "cell_type": "markdown",
   "id": "f7b8937a",
   "metadata": {},
   "source": [
    "## Creating `Potential`'s with the independent atom model <a id='potentials'></a>\n",
    "We use the indepedent atom model (IAM) to create the electrostatic potential of the sample, in this model the potential is a superposition of parametrizations of single atomic potentials. More information on potential in *ab*TEM may be found in the [walkthrough](https://abtem.github.io/doc/user_guide/walkthrough/potentials.html).\n",
    "\n",
    "To define a `Potential`, we need to provide an ASE `Atoms` object, a sampling rate (or pixel size) in $x$ and $y$, and a slice thickness in the $z$-direction (the propagation direction). \n",
    "\n",
    "The multislice algorithm is only accurate in the limit of good (small) sampling rate and thin slices, however, improving these parameters also increases computational cost. A sensible value for the sampling rate is between $0.01 \\ \\mathrm{Å}$ and $\\mathrm{0.1} \\ \\mathrm{Å}$ and the slice thickness is typically between $0.5 \\ \\mathrm{Å}$ and $2 \\ \\mathrm{Å}$."
   ]
  },
  {
   "cell_type": "code",
   "execution_count": null,
   "id": "0022a799",
   "metadata": {},
   "outputs": [],
   "source": [
    "potential = abtem.Potential(atoms, sampling=0.05, slice_thickness=2)"
   ]
  },
  {
   "cell_type": "markdown",
   "id": "a4e4d857-998d-4846-9e16-480eff94eca5",
   "metadata": {},
   "source": [
    "The potential has 33 slices along the $z$ propagation direction, as may be determined from getting its length."
   ]
  },
  {
   "cell_type": "code",
   "execution_count": null,
   "id": "9f363213-c838-4a69-aeab-dcd4b84621d2",
   "metadata": {},
   "outputs": [],
   "source": [
    "len(potential)"
   ]
  },
  {
   "cell_type": "markdown",
   "id": "a5f51aef",
   "metadata": {},
   "source": [
    "The `.build` method is available for many simulation objects. This method will convert a simulation object into a static array-based object. "
   ]
  },
  {
   "cell_type": "code",
   "execution_count": null,
   "id": "285732bc",
   "metadata": {},
   "outputs": [],
   "source": [
    "potential_array = potential.build()"
   ]
  },
  {
   "cell_type": "markdown",
   "id": "6b05a918-3879-4a6e-9c43-3a576efaca4e",
   "metadata": {},
   "source": [
    "*ab*TEM is evaluated lazily using the Dask library, this means that the resulting array is not computed immediately. We only created the instructions for computing the array. "
   ]
  },
  {
   "cell_type": "code",
   "execution_count": null,
   "id": "411a929f-a1cc-40bb-aae3-c3e396e40651",
   "metadata": {},
   "outputs": [],
   "source": [
    "potential_array.array"
   ]
  },
  {
   "cell_type": "markdown",
   "id": "90758fb6-a9c9-4291-b0d3-61b2948e2f49",
   "metadata": {},
   "source": [
    "To run the computation we use the `.compute` method."
   ]
  },
  {
   "cell_type": "code",
   "execution_count": null,
   "id": "0b114d9a-aa45-4ef5-b11a-65544b135dcd",
   "metadata": {},
   "outputs": [],
   "source": [
    "potential_array.compute()"
   ]
  },
  {
   "cell_type": "markdown",
   "id": "9ecfda12-38c7-49dc-a8bf-116425da96c4",
   "metadata": {},
   "source": [
    "After computing the built potential is described as a NumPy array."
   ]
  },
  {
   "cell_type": "code",
   "execution_count": null,
   "id": "7be78c6e-1322-49f3-83fd-bab48fa6a32a",
   "metadata": {
    "tags": []
   },
   "outputs": [],
   "source": [
    "potential_array.array"
   ]
  },
  {
   "cell_type": "markdown",
   "id": "fa41a9a2-9ae6-45c7-8bd8-81dc86b2c595",
   "metadata": {},
   "source": [
    "We can show the projected potential using the `.show` method."
   ]
  },
  {
   "cell_type": "code",
   "execution_count": null,
   "id": "1d494b7b-2e37-48f8-8129-4242fd066f80",
   "metadata": {},
   "outputs": [],
   "source": [
    "potential_array.show(cbar=True);"
   ]
  },
  {
   "cell_type": "code",
   "execution_count": null,
   "id": "300696be-54c7-4e56-99b4-d1a0f4064d67",
   "metadata": {},
   "outputs": [],
   "source": [
    "# potential_array.to_hyperspy().plot()"
   ]
  },
  {
   "cell_type": "markdown",
   "id": "cb1b319e",
   "metadata": {},
   "source": [
    "*ab*TEM has some features for showing the simulation objects interactively. Here, we convert the potential slice to a stack of images and show the result with `interact=True`, allowing us to scroll through slices. \n",
    "\n",
    "__Note__: This requires that the Matplotlib backend is using [`ipympl`](https://matplotlib.org/ipympl/)."
   ]
  },
  {
   "cell_type": "code",
   "execution_count": null,
   "id": "241c4fc6-824b-429b-b60d-ebf1e3b64b05",
   "metadata": {},
   "outputs": [],
   "source": [
    "potential_array.to_images().show(interact=True, cbar=True)"
   ]
  },
  {
   "cell_type": "markdown",
   "id": "1ad4bd6a",
   "metadata": {},
   "source": [
    "## Creating `Probe` wave functions <a id='probes'></a>\n",
    "\n",
    "The multislice algorithm works by propagating the $xy$ part a the wave function through the electrostatic potential along the $z$-axis. In STEM, the wave function is a focused beam of electrons. The convention used in abTEM is a probe defined by\n",
    "\n",
    "$$\n",
    "    \\phi(\\mathbf{k}, \\mathbf{r}_0) = A(k) \\exp(-i \\chi(\\mathbf{k})) \\exp(-i 2 \\pi \\mathbf{k} \\cdot \\mathbf{r}_p) \\quad ,\n",
    "$$\n",
    "\n",
    "where $\\mathbf{k} = (k_x, k_y)$ is the spatial frequency, $A(k)$ is the condenser aperture function and $\\chi(\\mathbf{k})$ is the phase error and $\\mathbf{r}_p = (x_p, y_p)$ is the probe position. See our [walkthrough section](https://abtem.github.io/doc/user_guide/walkthrough/contrast_transfer_function.html) on wave functions.\n",
    "\n",
    "If the microscope is well aligned then off-axis aberrations are small and the phase error is dominated by defocus and spherical aberration\n",
    "\n",
    "$$\n",
    "    \\chi(k) \\approx \\frac{2\\pi}{\\lambda}\\left( \\frac{\\lambda^2 k^2}{2} \\Delta f + \\frac{\\lambda^4 k^4}{4} C_s \\right) \\quad ,\n",
    "$$\n",
    "\n",
    "where $\\Delta f$ is the defocus and $C_s$ is the third order spherical aberration. See our [walkthrough section](https://abtem.github.io/doc/user_guide/walkthrough/contrast_transfer_function.html) on the contrast transfer function.\n",
    "\n",
    "We create a probe with an energy of $200 \\ \\mathrm{keV}$, a convergence semiangle of $20 \\ \\mathrm{mrad}$, and a defocus of $50 \\ \\mathrm{Å}$.\n",
    "\n",
    "__Note__: Positive defocus is equivalent to backward free-space propagation, i.e. a probe with positive defocus is \"in focus\" inside the sample."
   ]
  },
  {
   "cell_type": "code",
   "execution_count": null,
   "id": "d617dba2-bae4-4b66-a5f2-6e4bf5ea631e",
   "metadata": {},
   "outputs": [],
   "source": [
    "abtem.Probe?"
   ]
  },
  {
   "cell_type": "code",
   "execution_count": null,
   "id": "78a7435d",
   "metadata": {},
   "outputs": [],
   "source": [
    "probe = abtem.Probe(energy=150e3, defocus=50, semiangle_cutoff=20, Cs=0.)"
   ]
  },
  {
   "cell_type": "markdown",
   "id": "52cc8845-a4cd-4d6b-94f2-0ea581a89fac",
   "metadata": {},
   "source": [
    "We match our probe to our potential."
   ]
  },
  {
   "cell_type": "code",
   "execution_count": null,
   "id": "13296c06-8b9d-4914-8b87-b55a8b185e1e",
   "metadata": {},
   "outputs": [],
   "source": [
    "probe.grid.match(potential)"
   ]
  },
  {
   "cell_type": "markdown",
   "id": "521d4707",
   "metadata": {},
   "source": [
    "We can `.build` the probe to obtain an array representation."
   ]
  },
  {
   "cell_type": "code",
   "execution_count": null,
   "id": "d0679c47",
   "metadata": {},
   "outputs": [],
   "source": [
    "probe_waves = probe.build()\n",
    "\n",
    "probe_waves.array"
   ]
  },
  {
   "cell_type": "code",
   "execution_count": null,
   "id": "c4a6dbce-8a10-4c09-85ed-1d32a5d66de7",
   "metadata": {},
   "outputs": [],
   "source": [
    "probe_waves.compute()"
   ]
  },
  {
   "cell_type": "markdown",
   "id": "f88308cb",
   "metadata": {},
   "source": [
    "The wave function intensity can be shown in real or reciprocal space using the `.intensity` or `.diffraction_patterns` methods. \n",
    "\n",
    "__Note__: We used `grid.match`, hence the probe grid matches the potential. "
   ]
  },
  {
   "cell_type": "code",
   "execution_count": null,
   "id": "f0ca5deb-020c-4edf-b4a1-bcaa2719aab7",
   "metadata": {},
   "outputs": [],
   "source": [
    "probe_waves.intensity().show(title=\"Probe intensity\")"
   ]
  },
  {
   "cell_type": "code",
   "execution_count": null,
   "id": "33ef7b36-ed14-4546-a7e6-0c93ce1c2a9f",
   "metadata": {},
   "outputs": [],
   "source": [
    "probe_waves.diffraction_patterns().show(\n",
    "    title=\"Reciprocal space probe intensity\", units=\"mrad\"\n",
    ");"
   ]
  },
  {
   "cell_type": "markdown",
   "id": "78b75d11-6339-4d93-a176-753f9bf3da7d",
   "metadata": {},
   "source": [
    "We can create probes with multiple different values of defocus (or other parameters) by providing a sequence of values, e.g. as a NumPy array. Here we create an ensemble of $10$ probes with a defocus ranging from $0$ to $200 \\ \\mathrm{Å}$."
   ]
  },
  {
   "cell_type": "code",
   "execution_count": null,
   "id": "6b9aedde-e4be-43e3-b280-1bdd661e60a2",
   "metadata": {},
   "outputs": [],
   "source": [
    "focal_series = np.linspace(0, 200, 5)\n",
    "\n",
    "focal_series_probe = abtem.Probe(\n",
    "    energy=200e3, defocus=focal_series, semiangle_cutoff=20, extent=10, sampling=0.05\n",
    ")"
   ]
  },
  {
   "cell_type": "markdown",
   "id": "47f34d61-2fee-45a2-ae29-6da22cb4dacd",
   "metadata": {},
   "source": [
    "We make an interactive visualization to scroll through the probe ensemble. \n",
    "\n",
    "__Note__: The probe `extent` is too small to represent a probe with the largest defocus in the series. We are seeing errors due to probe self-interaction causing the probe to have only four-fold rotational symmetry as a consequence of the square probe window."
   ]
  },
  {
   "cell_type": "code",
   "execution_count": null,
   "id": "813bcc63-014c-46f4-80f6-826d32ced6aa",
   "metadata": {},
   "outputs": [],
   "source": [
    "focal_series_probe.build().compute().show(interact=True)"
   ]
  },
  {
   "cell_type": "markdown",
   "id": "bbccafc4-4353-4e63-89ad-cdd60f7011c8",
   "metadata": {},
   "source": [
    "As an alternative to the inteactive plots, we can set `explode=True` to show the entire ensemble."
   ]
  },
  {
   "cell_type": "code",
   "execution_count": null,
   "id": "30720766-188d-4fd3-a0f3-cedbedcf4d59",
   "metadata": {},
   "outputs": [],
   "source": [
    "focal_series_probe.build().show(explode=True, figsize=(10, 3))"
   ]
  },
  {
   "cell_type": "markdown",
   "id": "aa0f485a",
   "metadata": {},
   "source": [
    "## Multislice simulation with a `Probe` (CBED) <a id='multislice'></a>\n",
    "We use the multislice algorithm to propagate the probe through the potential. We can choose where to place the probe by setting the `scan` argument. Here we place the probe at $\\mathbf{r}_p = (8,8) \\ \\mathrm{Å}$."
   ]
  },
  {
   "cell_type": "code",
   "execution_count": null,
   "id": "3b87ec18",
   "metadata": {},
   "outputs": [],
   "source": [
    "position = [(8, 8), (6, 8), (4, 8)]\n",
    "\n",
    "exit_wave = probe.multislice(potential, scan=position)"
   ]
  },
  {
   "cell_type": "markdown",
   "id": "2963a3d0-1664-4a5c-8eaa-548ba27bccb1",
   "metadata": {},
   "source": [
    "We run `.compute` to calculate the exit wave."
   ]
  },
  {
   "cell_type": "code",
   "execution_count": null,
   "id": "9cd5e4ef-e640-4692-8e63-9793b6e5e1c7",
   "metadata": {},
   "outputs": [],
   "source": [
    "exit_wave.compute()"
   ]
  },
  {
   "cell_type": "markdown",
   "id": "c018a7b4-dc8f-4b00-9a98-9f9a990503d4",
   "metadata": {},
   "source": [
    "We can show the exit wave intensity."
   ]
  },
  {
   "cell_type": "code",
   "execution_count": null,
   "id": "4cd3730e-fb61-4e42-932d-8d8d6b987df0",
   "metadata": {},
   "outputs": [],
   "source": [
    "exit_wave_image = exit_wave.intensity()\n",
    "\n",
    "exit_wave_image.show(interact=True)"
   ]
  },
  {
   "cell_type": "markdown",
   "id": "7f401610",
   "metadata": {},
   "source": [
    "We can use an interactive visualization to show the diffraction on different power scales. "
   ]
  },
  {
   "cell_type": "code",
   "execution_count": null,
   "id": "d7f4cbf2-34c0-40da-8f05-2d8262423266",
   "metadata": {},
   "outputs": [],
   "source": [
    "exit_wave_diffraction = exit_wave.diffraction_patterns(max_angle=100)\n",
    "\n",
    "exit_wave_diffraction.show(interact=True, cbar=True, units=\"mrad\")"
   ]
  },
  {
   "cell_type": "markdown",
   "id": "fb46f77b-17a5-47e0-afb1-d707fd2bff19",
   "metadata": {},
   "source": [
    "We set `max_angle=\"full\"` above to show the diffraction pattern on the full simulation grid, however, the maximum available simulated angle does not correspond to full simulation grid.\n",
    "\n",
    "The real-space sampling determines the maximum simulated scattering angle. The sampling defines the maximum spatial frequency $k_{max}$ via the formula:\n",
    "\n",
    "$$ k_{max} = \\frac{1}{2d} \\quad , $$\n",
    "\n",
    "where $d$ is the real-space sampling distance. To counteract aliasing artifacts due to the periodicity assumption of a discrete Fourier transform, abTEM supresses spatial frequencies above 2 / 3 of the maximum scattering angle, further reducing the maximum effective scattering angle by a factor of 2 / 3. Hence the maximum scattering angle $\\alpha_{max}$ is given by:\n",
    "\n",
    "$$ \\alpha_{max} = \\frac{2}{3}\\frac{\\lambda}{2p} \\quad , $$\n",
    "\n",
    "where $\\lambda$ is the relativistic electron wavelength. "
   ]
  },
  {
   "cell_type": "markdown",
   "id": "50838252",
   "metadata": {},
   "source": [
    "## Scanned multislice simulation <a id='scan'></a>\n",
    "\n",
    "Scanning imaging modes such as STEM works by rastering an electron probe across a sample pixel by pixel and recording the scattering signal. \n",
    "\n",
    "We create a grid scan and set the sampling (probe step size) to the Nyquist sampling of the probe. The image can be interpolated to the typically much higher experimental sampling rate.\n",
    "\n",
    "We only scan across $1 / 3$ of the potential along $x$ because it is repeated three times in this direction. This is most conviniently done using fractional coordinates, which then requires us to provide the potential as well."
   ]
  },
  {
   "cell_type": "code",
   "execution_count": null,
   "id": "4b82bec1",
   "metadata": {},
   "outputs": [],
   "source": [
    "scan = abtem.GridScan(\n",
    "    start=(0, 0),\n",
    "    end=(1 / 3, 1),\n",
    "    sampling=probe.ctf.nyquist_sampling,\n",
    "    fractional=True,\n",
    "    potential=potential,\n",
    ")"
   ]
  },
  {
   "cell_type": "markdown",
   "id": "52ea80e3-6de0-4bce-822f-6bc7a87ebd06",
   "metadata": {},
   "source": [
    "We can show the scan region on top of the atoms to confirm. "
   ]
  },
  {
   "cell_type": "code",
   "execution_count": null,
   "id": "9e5a1f73-cafc-4fc1-bb62-f05143f11d7d",
   "metadata": {},
   "outputs": [],
   "source": [
    "fig, ax = abtem.show_atoms(atoms)\n",
    "scan.add_to_plot(ax, color=\"k\")"
   ]
  },
  {
   "cell_type": "markdown",
   "id": "71c42cbe",
   "metadata": {},
   "source": [
    "__Note__: The scan `sampling` should not be confused with the wave function `sampling` due discretization. The former is equivalent to the probe step size, while the second has no experimental equivalent. \n",
    "\n",
    "In *ab*TEM the exit waves are \"detected\" using a detector object. There are several different types of detectors, the most basic, the `AnnularDetector`, may be used for bright-field, medium- or high-angle annular dark-field microscopy, depending on the integration region.\n",
    "\n",
    "The integration region is given by an inner and outer radius in mrad; below we create three different types of detectors. We show the integration region of the HAADF detector."
   ]
  },
  {
   "cell_type": "code",
   "execution_count": null,
   "id": "92bf1128",
   "metadata": {},
   "outputs": [],
   "source": [
    "bright = abtem.AnnularDetector(inner=0, outer=20)\n",
    "maadf = abtem.AnnularDetector(inner=50, outer=120)\n",
    "haadf = abtem.AnnularDetector(inner=100, outer=180)\n",
    "\n",
    "detectors = [bright, maadf, haadf]"
   ]
  },
  {
   "cell_type": "markdown",
   "id": "ceea29d9-717f-4014-bfa3-05c165297d18",
   "metadata": {},
   "source": [
    "The outer radius can only be as large as the maximum simulated scattering angle."
   ]
  },
  {
   "cell_type": "code",
   "execution_count": null,
   "id": "103f323b-8984-4d39-88b4-a8b7b2c152ac",
   "metadata": {},
   "outputs": [],
   "source": [
    "print(f\"alpha_max = {min(probe.cutoff_angles):.1f} mrad\")"
   ]
  },
  {
   "cell_type": "markdown",
   "id": "621b2916-1011-4d7d-bd0b-6cb1c5db2abe",
   "metadata": {},
   "source": [
    "The detector regions, given a wave function, may be retrieved using the get detector region method."
   ]
  },
  {
   "cell_type": "code",
   "execution_count": null,
   "id": "ba5be120-0677-4b28-8104-2795503cba86",
   "metadata": {},
   "outputs": [],
   "source": [
    "bright_region = bright.get_detector_region(probe)\n",
    "maadf_region = maadf.get_detector_region(probe)\n",
    "haadf_region = haadf.get_detector_region(probe)"
   ]
  },
  {
   "cell_type": "markdown",
   "id": "138a5b14-60e5-451b-b597-e0a10bca255d",
   "metadata": {},
   "source": [
    "To conveniently show all the regions together we stack them, providing a name for each, and show them with `explode=True`."
   ]
  },
  {
   "cell_type": "code",
   "execution_count": null,
   "id": "3541a5a2-4c64-4101-a1fa-dabd50f6c34a",
   "metadata": {},
   "outputs": [],
   "source": [
    "stacked_regions = abtem.stack(\n",
    "    (bright_region, maadf_region, haadf_region), (\"bright\", \"MAADF\", \"HAADF\")\n",
    ")\n",
    "\n",
    "visualization = stacked_regions.show(explode=True, units=\"mrad\", figsize=(8, 4))"
   ]
  },
  {
   "cell_type": "markdown",
   "id": "94611e39",
   "metadata": {},
   "source": [
    "The scanned multislice simulations are started as below, the simulation takes about 60s on my 2018 Macbook."
   ]
  },
  {
   "cell_type": "code",
   "execution_count": null,
   "id": "cde5d8d1",
   "metadata": {},
   "outputs": [],
   "source": [
    "scanned_measurements = probe.scan(\n",
    "    scan=scan,\n",
    "    detectors=detectors,\n",
    "    potential=potential,\n",
    ")\n",
    "\n",
    "scanned_measurements.compute()"
   ]
  },
  {
   "cell_type": "markdown",
   "id": "d4f19af8-fed9-46fc-a2aa-ed1b859d2756",
   "metadata": {},
   "source": [
    "The output is given as a list of three `Images` objects, one for each detector. We can stack show the measurements with `explode=True`."
   ]
  },
  {
   "cell_type": "code",
   "execution_count": null,
   "id": "7850a352-4625-4361-8f18-ae628add6057",
   "metadata": {},
   "outputs": [],
   "source": [
    "stacked_measurements = abtem.stack(scanned_measurements, (\"BF\", \"MAADF\", \"HAADF\"))\n",
    "\n",
    "stacked_measurements.show(explode=True)"
   ]
  },
  {
   "cell_type": "markdown",
   "id": "8ae27da2",
   "metadata": {},
   "source": [
    "## Post-processing STEM measurements\n",
    "\n",
    "STEM simulations usually requires some post-processing, we apply the most common steps below.\n",
    "\n",
    "### Interpolation\n",
    "\n",
    "We saved a lot of computational time by scanning at the Nyquist frequency, but the result is quite pixelated. To address this, we interpolate the images to a sampling of $0.1 \\ \\mathrm{Å / pixel}$. *ab*TEM's default interpolation algorithm is Fourier-space padding, but spline interpolation is also available, which is more appropriate if the image in non-periodic."
   ]
  },
  {
   "cell_type": "code",
   "execution_count": null,
   "id": "4db32b5f",
   "metadata": {},
   "outputs": [],
   "source": [
    "interpolated_measurements = stacked_measurements.interpolate(0.1)\n",
    "\n",
    "interpolated_measurements.show(explode=True)"
   ]
  },
  {
   "cell_type": "markdown",
   "id": "e11c2ab0-a12e-48e6-ba8f-a45074c0b2cd",
   "metadata": {},
   "source": [
    "### Blurring\n",
    "\n",
    "A finite Gaussian-shaped source will result in a blurring of the image. Vibrations and other instabilities may further contribute to the blur. We apply a Gaussian blur with a standard deviation of $0.5 \\ \\mathrm{Å}$ (corresponding to a source of approximately that size).\n",
    "\n",
    "__Note__: We are not including partial temporal incoherence here. See our [tutorial on partial coherence](../tutorials/partial_coherence.ipynb)."
   ]
  },
  {
   "cell_type": "code",
   "execution_count": null,
   "id": "9e93c0e1-add7-4c9d-95e6-4f212cbe224f",
   "metadata": {},
   "outputs": [],
   "source": [
    "blurred_measurements = interpolated_measurements.gaussian_filter(0.4)\n",
    "\n",
    "blurred_measurements.show(explode=True)"
   ]
  },
  {
   "cell_type": "markdown",
   "id": "3d74b6e5-5797-4841-b16a-5a44911e1f00",
   "metadata": {},
   "source": [
    "### Noise\n",
    "\n",
    "Simulations such as the above corresponds to the limit of an infinite electron dose. We can get a random sample for a finite dose by drawing random numbers from a Poisson distribution for every pixel.\n",
    "\n",
    "Before applying the noise, we tile the images to get better statistics."
   ]
  },
  {
   "cell_type": "code",
   "execution_count": null,
   "id": "772c05e2-0071-4b72-9b2e-08e3f03ace43",
   "metadata": {},
   "outputs": [],
   "source": [
    "tiled_measurements = blurred_measurements.tile((8, 3))"
   ]
  },
  {
   "cell_type": "markdown",
   "id": "6762635d-dee6-4fc8-8ef8-3b9f178df296",
   "metadata": {},
   "source": [
    "We apply Poisson noise corresponding a dose per area of $10^5 \\ \\mathrm{e}^- / \\mathrm{Å}^2$."
   ]
  },
  {
   "cell_type": "code",
   "execution_count": null,
   "id": "be8edaad-45f9-46c3-8fd4-90bf32525cd7",
   "metadata": {},
   "outputs": [],
   "source": [
    "noisy_measurements = tiled_measurements.poisson_noise(dose_per_area=1e4, seed=100)"
   ]
  },
  {
   "cell_type": "code",
   "execution_count": null,
   "id": "e0c76044-475c-4e05-b9a3-c70490e6e3ad",
   "metadata": {},
   "outputs": [],
   "source": [
    "noisy_measurements.show(explode=True, figsize=(8, 4));"
   ]
  }
 ],
 "metadata": {
  "kernelspec": {
   "display_name": "Python 3 (ipykernel)",
   "language": "python",
   "name": "python3"
  },
  "language_info": {
   "codemirror_mode": {
    "name": "ipython",
    "version": 3
   },
   "file_extension": ".py",
   "mimetype": "text/x-python",
   "name": "python",
   "nbconvert_exporter": "python",
   "pygments_lexer": "ipython3",
   "version": "3.11.7"
  },
  "widgets": {
   "application/vnd.jupyter.widget-state+json": {
    "state": {},
    "version_major": 2,
    "version_minor": 0
   }
  }
 },
 "nbformat": 4,
 "nbformat_minor": 5
}
