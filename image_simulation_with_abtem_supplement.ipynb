{
 "cells": [
  {
   "cell_type": "markdown",
   "id": "9747384f-1502-4af1-b948-9b5718ca0ad0",
   "metadata": {},
   "source": [
    "# Introduction to multislice simulations with *ab*TEM - advanced\n",
    "\n",
    "This tutorial is a continuation of a short introduction to image simulation with *ab*TEM covering slightly more advanced topics. The tutorial covers 4D-STEM, frozen phonons and PRISM.\n",
    "\n",
    "### Contents:\n",
    "\n",
    "1. <a href='#hrtem'> HRTEM simulation\n",
    "2. <a href='#4d_stem'> 4D-STEM\n",
    "3. <a href='#frozen_phonons'> The frozen phonon model\n",
    "4. <a href='#prism'> Large STEM simulation with PRISM\n",
    "5. <a href='#parallel'> Parallelization"
   ]
  },
  {
   "cell_type": "code",
   "execution_count": null,
   "id": "d84ec4cc-e4b5-4350-a701-4dc1b9a5254a",
   "metadata": {},
   "outputs": [],
   "source": [
    "%matplotlib ipympl\n",
    "\n",
    "import abtem\n",
    "import ase\n",
    "import matplotlib.pyplot as plt\n",
    "import numpy as np\n",
    "\n",
    "abtem.config.set({\"visualize.cmap\": \"viridis\"})\n",
    "abtem.config.set({\"visualize.continuous_update\": True})\n",
    "abtem.config.set({\"visualize.autoscale\": True})\n",
    "abtem.config.set({\"device\": \"cpu\"})\n",
    "abtem.config.set({\"fft\": \"fftw\"})"
   ]
  },
  {
   "cell_type": "markdown",
   "id": "1b4cd1e0-9c64-4ae5-bfee-4209392916a8",
   "metadata": {},
   "source": [
    "We recreate some the simulation objects from the basics tutorial. "
   ]
  },
  {
   "cell_type": "code",
   "execution_count": null,
   "id": "9d084962-c600-4928-9877-704ccbbbfaaf",
   "metadata": {},
   "outputs": [],
   "source": [
    "atoms = ase.io.read(\"sto_lto.cif\")\n",
    "\n",
    "abtem.show_atoms(atoms)"
   ]
  },
  {
   "cell_type": "markdown",
   "id": "94419242-2ff9-4eec-938b-a79b9300755e",
   "metadata": {},
   "source": [
    "## HRTEM simulations with `PlaneWaves`'s <a id='hrtem'></a>\n",
    "\n",
    "Running an HRTEM simulation is not very different from doing a CBED simulation. Instead of creating a `Probe`, we now create a `PlaneWave` with an energy of $150 \\ \\mathrm{keV}$."
   ]
  },
  {
   "cell_type": "code",
   "execution_count": null,
   "id": "b3b0073e-c2e3-4407-9de1-16044e72a384",
   "metadata": {},
   "outputs": [],
   "source": [
    "plane_wave = abtem.PlaneWave(energy=150e3)"
   ]
  },
  {
   "cell_type": "markdown",
   "id": "a19a5b9f-f81f-45da-b621-94757172effa",
   "metadata": {},
   "source": [
    "We will show an example of how to simulate a thickness series. To do this, we have to recreate our potential with the `exit_planes` argument. We set it to one to specify that we want an output exit wave for every single slice."
   ]
  },
  {
   "cell_type": "code",
   "execution_count": null,
   "id": "fec4b76e-6c57-4a7e-89cf-11f0cc1c233b",
   "metadata": {},
   "outputs": [],
   "source": [
    "potential = abtem.Potential(atoms, sampling=0.05, slice_thickness=2, exit_planes=1)"
   ]
  },
  {
   "cell_type": "markdown",
   "id": "d7fda747-3221-4ee1-9868-ade39bdb0f25",
   "metadata": {},
   "source": [
    "__Note__: We did not define the wave function sampling, hence it will match the potential. We do not need to match the sampling of the wavefunction to an experimental pixel size, we can always interpolate the final result.\n",
    "\n",
    "We run the mulislice algorithm. "
   ]
  },
  {
   "cell_type": "code",
   "execution_count": null,
   "id": "50ec3595-3c20-4570-a047-1dce3e74fc8f",
   "metadata": {},
   "outputs": [],
   "source": [
    "exit_wave = plane_wave.multislice(potential).compute()"
   ]
  },
  {
   "cell_type": "markdown",
   "id": "cd716ef7-6bc8-480a-a511-6bf70b8c265c",
   "metadata": {},
   "source": [
    "We show the exit wave intensity."
   ]
  },
  {
   "cell_type": "code",
   "execution_count": null,
   "id": "3ce820b8-fe47-49b8-861c-7baeb025b94c",
   "metadata": {},
   "outputs": [],
   "source": [
    "exit_wave.show(interact=True)"
   ]
  },
  {
   "cell_type": "markdown",
   "id": "eb97dcd1-d22f-4547-ae54-889700e3def5",
   "metadata": {},
   "source": [
    "We now have to specify the aberrations and aperture of the objective lens. \n",
    "\n",
    "We create a compatible `CTF` for electrons of the same energy as the plane wave of $150 \\ \\mathrm{keV}$. The spherical aberration will be set to $-20~\\mu \\mathrm{m}$ (remember that *ab*TEM uses units of $\\mathrm{Å}$) and the defocus is set to the [Scherzer defocus](https://en.wikipedia.org/wiki/High-resolution_transmission_electron_microscopy)."
   ]
  },
  {
   "cell_type": "code",
   "execution_count": null,
   "id": "5edad881-189f-40d9-aec6-5d2daf830768",
   "metadata": {},
   "outputs": [],
   "source": [
    "Cs = -100e-6 * 1e10\n",
    "\n",
    "focal_series = np.linspace(0, 200, 5)\n",
    "\n",
    "ctf = abtem.CTF(Cs=Cs, energy=150e3, defocus=focal_series)\n",
    "\n",
    "#ctf.scherzer_defocus"
   ]
  },
  {
   "cell_type": "code",
   "execution_count": null,
   "id": "e935c95b-2b44-4efa-a5e8-0fac62bb9d17",
   "metadata": {},
   "outputs": [],
   "source": [
    "#ctf.defocus = ctf.scherzer_defocus"
   ]
  },
  {
   "cell_type": "markdown",
   "id": "421c2089-a958-4934-9a33-b75f7a90ed95",
   "metadata": {},
   "source": [
    "We can show a radial profile of the `CTF`."
   ]
  },
  {
   "cell_type": "code",
   "execution_count": null,
   "id": "b1bcff0e-39d6-4c8f-a21a-b1e27b898cdb",
   "metadata": {},
   "outputs": [],
   "source": [
    "ctf.profiles().show()"
   ]
  },
  {
   "cell_type": "markdown",
   "id": "9feee474-1345-4e21-8df4-ccca35123209",
   "metadata": {},
   "source": [
    "The angle transferred to the detector plane is limited by the aperture of the objective lens. This is described as a multiplication with the aberration and aperture function:\n",
    "\n",
    "$$\n",
    "    \\psi_{\\mathrm{image}}(k, \\phi) = A(k) \\exp[-i \\chi(k, \\phi)] \\psi_{\\mathrm{exit}}(k, \\phi) \\quad ,\n",
    "$$\n",
    "\n",
    "where $A(k)$ is the aperture function\n",
    "\n",
    "We will cut off the `CTF` at the angle corresponding to the Scherzer [point resolution](https://en.wikipedia.org/wiki/High-resolution_transmission_electron_microscopy#Scherzer_defocus), which is defined as the angle where the phase of the `CTF` crosses the abscissa for the first time (`crossover_angle`)."
   ]
  },
  {
   "cell_type": "code",
   "execution_count": null,
   "id": "999d5e44-759d-46f1-91cf-08f9216efcc8",
   "metadata": {},
   "outputs": [],
   "source": [
    "ctf.semiangle_cutoff = ctf.crossover_angle\n",
    "\n",
    "#ctf.profiles().show(legend=True)"
   ]
  },
  {
   "cell_type": "markdown",
   "id": "c0ea24f2-a4ed-4fcf-84b5-cb3b55d089b6",
   "metadata": {},
   "source": [
    "We apply the `CTF` to the exit wave to get the wave at the detector plane."
   ]
  },
  {
   "cell_type": "code",
   "execution_count": null,
   "id": "b8867c2a-b756-4e7e-880c-b40166cf9208",
   "metadata": {},
   "outputs": [],
   "source": [
    "image = exit_wave.apply_ctf(ctf).intensity()"
   ]
  },
  {
   "cell_type": "code",
   "execution_count": null,
   "id": "fa65339f-d7c2-499a-a3fa-5e161db5be37",
   "metadata": {},
   "outputs": [],
   "source": [
    "image.show(interact=True)"
   ]
  },
  {
   "cell_type": "markdown",
   "id": "32d4d8d2-c65f-4c98-a35d-093675ea5c70",
   "metadata": {},
   "source": [
    "We can tile the result and apply Poisson noise. "
   ]
  },
  {
   "cell_type": "code",
   "execution_count": null,
   "id": "875dec19-af4e-4c20-a647-ca6250424f7b",
   "metadata": {},
   "outputs": [],
   "source": [
    "noisy_image = image.tile((2, 2)).poisson_noise(1e4)\n",
    "\n",
    "noisy_image.show(title=\"HRTEM image\", interact=True)"
   ]
  },
  {
   "cell_type": "code",
   "execution_count": null,
   "id": "2db6bca3-470d-4a91-a1e7-9b2fb96ac5ff",
   "metadata": {},
   "outputs": [],
   "source": [
    "atoms = ase.io.read(\"sto_lto.cif\")\n",
    "\n",
    "potential = abtem.Potential(atoms, sampling=0.05, slice_thickness=2)\n",
    "\n",
    "probe = abtem.Probe(energy=150e3, defocus=50, semiangle_cutoff=20)\n",
    "\n",
    "scan = abtem.GridScan(\n",
    "    start=(0, 0),\n",
    "    end=(1 / 3, 1),\n",
    "    sampling=probe.ctf.nyquist_sampling,\n",
    "    fractional=True,\n",
    "    potential=potential,\n",
    ")"
   ]
  },
  {
   "cell_type": "markdown",
   "id": "de4d3d53-ded5-44a8-984c-83373f0cb9f5",
   "metadata": {},
   "source": [
    "## 4D-STEM <a id='4d_stem'></a>\n",
    "\n",
    "To run a 4D-STEM simulation, we only need to change the `AnnularDetector` to a `PixelatedDetector`. The `PixelatedDetector` will by default detect the diffraction patterns up the angle corrsponding to the largest rectangle inside the antialiasing limit, however, we can choose another maximum angle by setting the `max_angle` argument.\n",
    "\n",
    "Here we set the maximum angle to $100 \\ \\mathrm{mrad}$."
   ]
  },
  {
   "cell_type": "code",
   "execution_count": null,
   "id": "46daf01c-bd79-47ce-b8e4-c2961edcba2b",
   "metadata": {},
   "outputs": [],
   "source": [
    "detector = abtem.PixelatedDetector(max_angle=100)"
   ]
  },
  {
   "cell_type": "markdown",
   "id": "ca97d42f-f915-41f2-b967-abf7cbb9d887",
   "metadata": {},
   "source": [
    "We build a scanned multislice simulation, the result is a 4D array with $15\\times 43$ probe positions each producing a $116\\times 107$ diffraction pattern."
   ]
  },
  {
   "cell_type": "code",
   "execution_count": null,
   "id": "5c13d5d4-c69c-4f40-9b8e-a8d5d0bdeae3",
   "metadata": {},
   "outputs": [],
   "source": [
    "measurement_4d = probe.scan(scan=scan, potential=potential, detectors=detector)\n",
    "\n",
    "measurement_4d.array"
   ]
  },
  {
   "cell_type": "markdown",
   "id": "00fa165d-3f87-43da-8a2f-2aca0a93214b",
   "metadata": {},
   "source": [
    "The size of the dataset is quite manageable in this case, however, 4D-STEM dataset can grow quite large, hence, it is often preferable to write the simulation results directly to disk instead of the memory. *ab*TEM uses Dask and [zarr](https://zarr.readthedocs.io/en/stable/) to efficiently read and write in manageable chunks, in this case 8 chunks across the scan dimensions."
   ]
  },
  {
   "cell_type": "code",
   "execution_count": null,
   "id": "d87332a0-e83e-459b-81a1-e1fb1821811c",
   "metadata": {},
   "outputs": [],
   "source": [
    "measurement_4d.to_zarr(\"measurement_4d.zarr\")"
   ]
  },
  {
   "cell_type": "markdown",
   "id": "8b427f76-23f3-476d-b4ae-ce9238da53a1",
   "metadata": {},
   "source": [
    "We use the `from_zarr` function to lazily read back the results. "
   ]
  },
  {
   "cell_type": "code",
   "execution_count": null,
   "id": "b4b80fe5-0d3d-4ee4-866f-b07b80672448",
   "metadata": {
    "tags": []
   },
   "outputs": [],
   "source": [
    "measurement_4d = abtem.from_zarr(\"measurement_4d.zarr\")\n",
    "measurement_4d.array"
   ]
  },
  {
   "cell_type": "markdown",
   "id": "0ae53978-e221-4d17-a39d-684ff1bf993a",
   "metadata": {},
   "source": [
    "To read the entire measurement from disk into memory, we can run `.compute`, however, this is often unecessary as most of the *ab*TEM features works with lazy measurements. \n",
    "\n",
    "We show the diffraction patterns using an interactive visualization reading each chunk directly from disk."
   ]
  },
  {
   "cell_type": "code",
   "execution_count": null,
   "id": "7dbc7378-8f9f-4097-bcfa-665d23659252",
   "metadata": {},
   "outputs": [],
   "source": [
    "measurement_4d.show(interact=True)"
   ]
  },
  {
   "cell_type": "markdown",
   "id": "144dcf2a-8e40-4935-96c6-258056c0f7de",
   "metadata": {},
   "source": [
    "We can of course also index the dataset to retrieve a specific diffraction pattern."
   ]
  },
  {
   "cell_type": "code",
   "execution_count": null,
   "id": "0b1a120e-4122-4f9d-90d7-9e57a510f1f9",
   "metadata": {},
   "outputs": [],
   "source": [
    "measurement_4d[1, 1].show();"
   ]
  },
  {
   "cell_type": "markdown",
   "id": "a526da52-be88-49cc-a151-c1f60ca7a12d",
   "metadata": {},
   "source": [
    "Since we have the full diffraction pattern, we can integration between any to scattering angles within the maximum detected angle.\n",
    "\n",
    "To do this we first need to bin the diffraction patterns radially. We specify 100 radial bins and 1 azimuthal bin."
   ]
  },
  {
   "cell_type": "code",
   "execution_count": null,
   "id": "b2f25f54-a316-432e-a02b-9ca953b03f01",
   "metadata": {},
   "outputs": [],
   "source": [
    "polar_binned = measurement_4d.polar_binning(nbins_radial=100, nbins_azimuthal=1)\n",
    "\n",
    "polar_binned.array"
   ]
  },
  {
   "cell_type": "markdown",
   "id": "ddf10467-eddb-4038-bde2-d7f79069ce82",
   "metadata": {},
   "source": [
    "The `to_image_ensemble` creates a representation of the polar binned diffraction patterns for displaying interactively. We interpolate and tile to get a better visualization."
   ]
  },
  {
   "cell_type": "code",
   "execution_count": null,
   "id": "0e427257-a777-484a-abf5-baaeda550fbc",
   "metadata": {},
   "outputs": [],
   "source": [
    "binned_images = polar_binned.to_image_ensemble().compute().interpolate(0.1).tile((3, 1))\n",
    "\n",
    "binned_images.show(interact=True)"
   ]
  },
  {
   "cell_type": "markdown",
   "id": "383deba4-eb30-4f20-9bae-895dbbdc240c",
   "metadata": {},
   "source": [
    "In 4D-STEM, some algorithm is typically used for reducing the dataset to 2D. *ab*TEM includes some basic algorithms for reduction of 4D-STEM, for more advanced algorithms you may want to try a package dedicated to 4D-STEM.\n",
    "\n",
    "The center of mass, $\\vec{I}_{com}(\\vec{r}_p)$, of the diffraction pattern at a probe position, $\\vec{r}_p$, may be calculated as\n",
    "\n",
    "$$\n",
    "    \\vec{I}_{com}(\\vec{r}_p) = \\int \\hat{I}(\\vec{k}, \\vec{r}_p) \\vec{k} d^2\\vec{k} \\quad ,\n",
    "$$\n",
    "\n",
    "where $\\hat{I}(\\vec{k})$ is a diffraction pattern intensity. Doing this for every diffraction pattern, we obtain the image shown below. The center of mass is returned as complex `Images`, where the real and imaginary parts correspond to the $x$- and $y$-direction, respectively. We set `units=\"reciprocal\"`, hence each complex component is in units of $\\mathrm{Å}^{-1}$."
   ]
  },
  {
   "cell_type": "code",
   "execution_count": null,
   "id": "31380880-8e5b-4b1a-b7c9-ea80742451ac",
   "metadata": {},
   "outputs": [],
   "source": [
    "center_of_mass = measurement_4d.center_of_mass(units=\"1/Å\")\n",
    "center_of_mass.array"
   ]
  },
  {
   "cell_type": "markdown",
   "id": "c79403e8-0be2-43cc-8d3d-37b29623e4a6",
   "metadata": {},
   "source": [
    "We interpolate and tile before showing the real part of the COM."
   ]
  },
  {
   "cell_type": "code",
   "execution_count": null,
   "id": "c8240e4f-37ff-4fab-af47-b4864bdfc1a4",
   "metadata": {},
   "outputs": [],
   "source": [
    "interpolated_center_of_mass = center_of_mass.interpolate(0.1).tile((3, 1))\n",
    "\n",
    "interpolated_center_of_mass.imag().show(title=\"COM real part\", cbar=True);"
   ]
  },
  {
   "cell_type": "markdown",
   "id": "fa6725b0-4e17-4de7-9378-d8d34f30db31",
   "metadata": {},
   "source": [
    "We can show both real and imaginary components using [domain coloring](https://en.wikipedia.org/wiki/Domain_coloring)."
   ]
  },
  {
   "cell_type": "code",
   "execution_count": null,
   "id": "954a3cd6-f740-49a2-a69a-df1a2ae22ba8",
   "metadata": {},
   "outputs": [],
   "source": [
    "interpolated_center_of_mass.show(cbar=True, cmap=\"hsluv\", title=\"COM domain coloring\");"
   ]
  },
  {
   "cell_type": "markdown",
   "id": "6a63d72d-3ed2-4424-895a-eb36581e029e",
   "metadata": {},
   "source": [
    "It may be shown, in the weak-phase approximation, that by integrating $\\vec{I}_{com}(\\vec{r}_p)$, we can obtain the phase change of the exit wave, $\\phi(\\vec{r_p})$, cross-correlated with the probe intensity\n",
    "\n",
    "$$\n",
    "\\vec{I}_{iCOM}(\\vec{r}_p) = \\frac{1}{2\\pi} \\left[\\|\\psi_0(\\vec{r})\\|^2 \\star \\phi(\\vec{r})\\right](\\vec{r}_p) \\quad .\n",
    "$$\n",
    "\n",
    "This is the so-called integrated center of mass. We can calculate this using the `integrate_gradient` method, which assumes a complex `Image`."
   ]
  },
  {
   "cell_type": "code",
   "execution_count": null,
   "id": "ef793b98-9b2c-47b3-8083-e4cfe61a8f4b",
   "metadata": {},
   "outputs": [],
   "source": [
    "integrated_gradient = interpolated_center_of_mass.integrate_gradient()\n",
    "\n",
    "integrated_gradient.show();"
   ]
  },
  {
   "cell_type": "markdown",
   "id": "8b0128ca-f80b-460f-9959-869aafad0a5f",
   "metadata": {},
   "source": [
    "## The frozen phonon model <a id='frozen_phonons'></a>\n",
    "The atoms in any real material at a particular instance of time are not exactly located at their symmetrical lattice points due to thermal vibrations. In the Frozen phonon approximation, the effect of thermal vibrations are simulated by the _intensities_ averaged over several different configurations of atoms with different random offsets. \n",
    "\n",
    "To simulate frozen phonons the `Atoms` are wrapped with a `FrozenPhonons` object, where we also need to provide the magnitude of the thermal vibrations for each atomic species and the number of configurations we average over. Including more configurations will be more accurate, but of course also more expensive to calculate. \n",
    "\n",
    "Getting the right magnitude of thermal vibrations for a particular material, is not always trivial, here we just use the same reasonable value of $0.1 \\ \\mathrm{Å}$ for all the atomic numbers. We set the number og random structures in the thermal ensemble to 8."
   ]
  },
  {
   "cell_type": "code",
   "execution_count": null,
   "id": "37947d22-4927-4142-a5da-8e086278d960",
   "metadata": {},
   "outputs": [],
   "source": [
    "atoms"
   ]
  },
  {
   "cell_type": "code",
   "execution_count": null,
   "id": "dadc9094-a09a-4b2c-8fcb-d0f80dfa2a45",
   "metadata": {},
   "outputs": [],
   "source": [
    "sigmas = {\"O\": .1, \"Sr\": .1, \"La\":.1, \"Ti\":.1}\n",
    "\n",
    "frozen_phonons = abtem.FrozenPhonons(atoms * (1, 1, 4), sigmas=sigmas, num_configs=8)"
   ]
  },
  {
   "cell_type": "markdown",
   "id": "7bac3834-e30d-418e-8316-12ba1b660ed8",
   "metadata": {},
   "source": [
    "We can draw a particular frozen phonon configuration by iterating."
   ]
  },
  {
   "cell_type": "code",
   "execution_count": null,
   "id": "70681f6a-d7d4-40a4-928f-97b0a7aef848",
   "metadata": {},
   "outputs": [],
   "source": [
    "iterator = iter(frozen_phonons)"
   ]
  },
  {
   "cell_type": "code",
   "execution_count": null,
   "id": "af22a6e5-f552-4b28-bed1-d0f77812f07e",
   "metadata": {},
   "outputs": [],
   "source": [
    "config = next(iterator)\n",
    "\n",
    "abtem.show_atoms(config, scale=.5);"
   ]
  },
  {
   "cell_type": "markdown",
   "id": "c967f4cf-2ed4-45e3-8161-9230fc479cb4",
   "metadata": {},
   "source": [
    "The potential can be created as above, we just provide the frozen phonons instead of the atoms. "
   ]
  },
  {
   "cell_type": "code",
   "execution_count": null,
   "id": "a26de0eb-bb1f-4c0a-8d79-92ebb60ff552",
   "metadata": {},
   "outputs": [],
   "source": [
    "frozen_phonon_potential = abtem.Potential(\n",
    "    frozen_phonons, sampling=0.05, slice_thickness=2\n",
    ")"
   ]
  },
  {
   "cell_type": "code",
   "execution_count": null,
   "id": "d524d162-c073-4ea7-b358-47662e03e52c",
   "metadata": {},
   "outputs": [],
   "source": [
    "frozen_phonon_potential.build().project().compute().show(interact=True)"
   ]
  },
  {
   "cell_type": "markdown",
   "id": "7ee6fe1a-c8e8-433f-9488-4215108998ff",
   "metadata": {},
   "source": [
    "The potential object can be used in the same way as above, here we do a CBED simulation for each thermal snapshot. The result is an ensemble of 8 wave functions."
   ]
  },
  {
   "cell_type": "code",
   "execution_count": null,
   "id": "9ee75d8b-2362-442e-b6e1-083c2c279d80",
   "metadata": {},
   "outputs": [],
   "source": [
    "exit_waves = probe.multislice(potential=frozen_phonon_potential)\n",
    "\n",
    "exit_waves.array"
   ]
  },
  {
   "cell_type": "code",
   "execution_count": null,
   "id": "a0cf8fae-599c-463b-941f-2980d8733fdd",
   "metadata": {},
   "outputs": [],
   "source": [
    "exit_waves.compute()"
   ]
  },
  {
   "cell_type": "markdown",
   "id": "986e39c5-25d5-4e34-8dee-ecfe355bdb15",
   "metadata": {},
   "source": [
    "We show the ensemble of wave functions interactively."
   ]
  },
  {
   "cell_type": "code",
   "execution_count": null,
   "id": "59b27c49-8ad4-44e3-8640-27d7ef53ed7b",
   "metadata": {},
   "outputs": [],
   "source": [
    "exit_waves.diffraction_patterns().shape"
   ]
  },
  {
   "cell_type": "code",
   "execution_count": null,
   "id": "e148d78e-8bbd-4d7c-b883-d8bdfe9d2d30",
   "metadata": {},
   "outputs": [],
   "source": [
    "exit_waves.diffraction_patterns().show(interact=True)"
   ]
  },
  {
   "cell_type": "markdown",
   "id": "4921e96e-d141-46fc-9b87-2a3209c7b1bc",
   "metadata": {},
   "source": [
    "To get final diffraction pattern, we take the mean over the ensemble dimension.\n",
    "\n",
    "__Note__: some imaging modes will average over frozen phonons by default to conserve memory."
   ]
  },
  {
   "cell_type": "code",
   "execution_count": null,
   "id": "1a696a0c-1a66-4bd5-8643-f6938feecbe4",
   "metadata": {},
   "outputs": [],
   "source": [
    "probe.cutoff_angles"
   ]
  },
  {
   "cell_type": "code",
   "execution_count": null,
   "id": "0f3137db-904c-403a-8bfe-8ec4d3ea7240",
   "metadata": {},
   "outputs": [],
   "source": [
    "mean_diffraction_pattern = exit_waves.diffraction_patterns().mean(0)"
   ]
  },
  {
   "cell_type": "code",
   "execution_count": null,
   "id": "b70fd4d2-bc76-4a65-8e77-047643175d2e",
   "metadata": {},
   "outputs": [],
   "source": [
    "#exit_waves.diffraction_patterns()."
   ]
  },
  {
   "cell_type": "markdown",
   "id": "e05e1484-caaa-4e0b-93fe-2f0234ec43b3",
   "metadata": {},
   "source": [
    "We show the resulting diffraction pattern on a power scale."
   ]
  },
  {
   "cell_type": "code",
   "execution_count": null,
   "id": "ad7053ef-df2c-4991-a1b0-5437c1c04947",
   "metadata": {},
   "outputs": [],
   "source": [
    "mean_diffraction_pattern.show(power=0.25, units=\"mrad\");"
   ]
  },
  {
   "cell_type": "markdown",
   "id": "c3732a10-071f-4eb3-8787-e7ac7d9f7867",
   "metadata": {},
   "source": [
    "## Large STEM simulation with PRISM <a id='prism'></a>\n",
    "Multslice simulations of STEM images can be very slow because the scattering of the electron probe is calculated from scratch at each pixel of the image. An alternative is to use the [PRISM algorithm](https://prism-em.com). \n",
    "\n",
    "The PRISM algorithm for STEM simulations may be summarised as two consecutive stages: \n",
    "\n",
    "__Multislice stage:__ Build the PRISM scattering matrix by applying the multislice algorithm to each component of a plane wave expansion of the incoming probe.\n",
    "\n",
    "__Reduction stage:__ For each probe position, perform a reduction with a set of expansion coefficients determined by the probe position and phase aberrations.\n",
    "\n",
    "PRISM almost always provides a decent speed-up for images with many probe positions, and allows for huge speedups, at a modest cost to accuracy, by using Fourier interpolation.\n",
    "\n",
    "We import the moderately large model of a nanoparticle on carbon that was constructed in \"atomic_models_with_ase.ipynb\"."
   ]
  },
  {
   "cell_type": "code",
   "execution_count": null,
   "id": "e713ad31-8b01-4622-ae4a-d83899710d50",
   "metadata": {},
   "outputs": [],
   "source": [
    "from ase.io import read\n",
    "\n",
    "cluster = read(\"cluster_on_carbon.cfg\")\n",
    "\n",
    "print(\n",
    "    \"Number of atoms: {} \\nCell: {:.2f} x {:.2f} x {:.2f}\".format(\n",
    "        len(cluster), *np.diag(cluster.cell)\n",
    "    )\n",
    ")"
   ]
  },
  {
   "cell_type": "code",
   "execution_count": null,
   "id": "f71fdb9e-5d57-4207-adbf-61c007980bca",
   "metadata": {},
   "outputs": [],
   "source": [
    "abtem.show_atoms(cluster, plane=\"xz\", title=\"Side view\")"
   ]
  },
  {
   "cell_type": "markdown",
   "id": "dc329fa5-b35a-4f67-ad56-592be47374f6",
   "metadata": {},
   "source": [
    "In *ab*TEM, the PRISM algorithm can be used by exchanging the `Probe` for the `SMatrix`. However, we need to provide the potential directly to the `SMatrix`, additionally there is new to know about, namely interpolation.\n",
    "\n",
    "Increasing the interpolation decreases the number of plane waves necessary in the plane wave expansion of the probe, hence lowering both time and memory consumption. The price is that the interpolation factor also decreases the Fourier space sampling rate, i.e. the pixels of the detected diffraction patterns becomes larger and equivalently the probe window becomes smaller."
   ]
  },
  {
   "cell_type": "code",
   "execution_count": null,
   "id": "f5441162-81b6-4ce4-946d-e8a75006aa84",
   "metadata": {},
   "outputs": [],
   "source": [
    "cluster_potential = abtem.Potential(cluster, gpts=768, slice_thickness=2)\n",
    "\n",
    "S = abtem.SMatrix(\n",
    "    potential=cluster_potential, interpolation=6, energy=150e3, semiangle_cutoff=25\n",
    ")\n",
    "\n",
    "S.cutoff_angles"
   ]
  },
  {
   "cell_type": "markdown",
   "id": "bc4c5576-320c-46fc-b966-684407693b68",
   "metadata": {},
   "source": [
    "We can get the equivalent probe produced represented by the scattering matrix using the `dummy_probes` method."
   ]
  },
  {
   "cell_type": "code",
   "execution_count": null,
   "id": "5ed09d50-329a-491b-a0aa-656bd2ac1cc9",
   "metadata": {},
   "outputs": [],
   "source": [
    "S.dummy_probes(plane=\"exit\").show()"
   ]
  },
  {
   "cell_type": "markdown",
   "id": "46aeae25-d20f-4324-90b7-ed8c78bf2b18",
   "metadata": {},
   "source": [
    "The nanoparticle is located around $60 \\ \\mathrm{Å}$ inside the cell, hence we may want to change the focus to match. Remember the convention used in *ab*TEM; positive defocus negates positive free-space propagation."
   ]
  },
  {
   "cell_type": "code",
   "execution_count": null,
   "id": "65152484-6a05-4404-bc00-5d102961ff9c",
   "metadata": {},
   "outputs": [],
   "source": [
    "ctf = abtem.CTF(defocus=[0, 70])\n",
    "\n",
    "S.dummy_probes(plane=\"exit\", ctf=ctf).show(interact=True)"
   ]
  },
  {
   "cell_type": "markdown",
   "id": "e2294377-0e37-430d-9efe-73236d1d6942",
   "metadata": {},
   "source": [
    "We can `build` the `SMatrix` to produce an `SMatrixArray`. The `SMatrixArray` wraps a 3D NumPy array where the first dimension indexes the plane wave of the plane wave expansion.\n",
    "\n",
    "We see that the expansion of our probe requires 177 plane waves."
   ]
  },
  {
   "cell_type": "code",
   "execution_count": null,
   "id": "76097c4d-0b42-4d59-8d3a-d6aaea80341b",
   "metadata": {},
   "outputs": [],
   "source": [
    "S.build().array"
   ]
  },
  {
   "cell_type": "markdown",
   "id": "c7d505ef-08c7-47a4-b36b-6da60fe0295a",
   "metadata": {},
   "source": [
    "We can access the plane waves using the `waves` property."
   ]
  },
  {
   "cell_type": "code",
   "execution_count": null,
   "id": "2a81fae1-c7eb-4c37-9ee4-2cd41b6cf5ad",
   "metadata": {},
   "outputs": [],
   "source": [
    "plane_waves = S.build().waves"
   ]
  },
  {
   "cell_type": "markdown",
   "id": "d3525ab7-89ee-473b-8e71-ae48612f7f3b",
   "metadata": {},
   "source": [
    "We show every 10'th of the plane waves using domain coloring."
   ]
  },
  {
   "cell_type": "code",
   "execution_count": null,
   "id": "cb3d5d59-dad4-4e50-9abb-1a332afd8cc7",
   "metadata": {},
   "outputs": [],
   "source": [
    "plane_waves[:50:10].complex_images().compute().show(\n",
    "    interact=True, cbar=True, cmap=\"hsv\"\n",
    ")"
   ]
  },
  {
   "cell_type": "markdown",
   "id": "d435b7ee-00ac-4d64-b82d-db0bb47fb5ed",
   "metadata": {},
   "source": [
    "We create a MAADF detector."
   ]
  },
  {
   "cell_type": "code",
   "execution_count": null,
   "id": "8c6ab495-6d9b-4136-9d1e-75d26f7e0451",
   "metadata": {},
   "outputs": [],
   "source": [
    "maadf_detector = abtem.AnnularDetector(inner=60, outer=150)"
   ]
  },
  {
   "cell_type": "markdown",
   "id": "39b5df4f-f0e0-4d69-85fa-77f6789de236",
   "metadata": {},
   "source": [
    "We can run the simulation by just providing the detector. By not providing a scan object we assume scanning the Nyquist sampling rate across the entire sample."
   ]
  },
  {
   "cell_type": "code",
   "execution_count": null,
   "id": "28639fbb-7634-4d38-9308-b692befc5ae9",
   "metadata": {},
   "outputs": [],
   "source": [
    "image_prism = S.scan(\n",
    "    detectors=maadf_detector,\n",
    "    max_batch_reduction=50,\n",
    "    ctf=ctf,\n",
    ")"
   ]
  },
  {
   "cell_type": "markdown",
   "id": "7c67f3bc-c770-4fab-9222-a615e31e9ad4",
   "metadata": {},
   "source": [
    "We see that the result will be 2 images of $170 \\times 170$, i.e. $2 \\times 28900$ probe positions. This should be compared to the only $177$ plane waves in the expansion, we thus reduced the number of runs of the multislice algorithm by a factor of $326$. The caveat is that we still need to run the reduction stage twice and we lost some reciprocal space resolution by using interpolation."
   ]
  },
  {
   "cell_type": "code",
   "execution_count": null,
   "id": "8e11c5d4-3372-4b51-91ae-9655db035cc0",
   "metadata": {},
   "outputs": [],
   "source": [
    "image_prism.array"
   ]
  },
  {
   "cell_type": "markdown",
   "id": "78d6d518-74f3-4b19-901a-1d925d7d81d8",
   "metadata": {},
   "source": [
    "We compute to run both the PRISM multislice and reduction stages. The simulation took around 40 seconds on my 2018 MacBook."
   ]
  },
  {
   "cell_type": "code",
   "execution_count": null,
   "id": "5c9bf34d-1178-423f-bc70-46ae5484be3b",
   "metadata": {},
   "outputs": [],
   "source": [
    "image_prism.compute()"
   ]
  },
  {
   "cell_type": "markdown",
   "id": "971f390d-1189-444e-ba0b-a9edc97d1923",
   "metadata": {},
   "source": [
    "Lastly, we apply the typical postprocessing steps and show the MAADF image."
   ]
  },
  {
   "cell_type": "code",
   "execution_count": null,
   "id": "98065342-7322-40d2-ab25-d1a44d0e70e2",
   "metadata": {},
   "outputs": [],
   "source": [
    "image_prism.gaussian_filter(0.35).interpolate(0.1).show(interact=True);"
   ]
  },
  {
   "cell_type": "markdown",
   "id": "01eaf3c7-fa1f-4c97-a03f-f62d03962165",
   "metadata": {},
   "source": [
    "## Parallelization and memory <a href='#parallel'>\n",
    "   \n",
    "*ab*TEM is parallelized using [Dask](https://www.dask.org/){cite}`dask`, which is a flexible library for parallel computing in Python. \n",
    "\n",
    "When running methods such as `build`, `multislice` and `scan`, *ab*TEM creates a Dask [*task graph*](https://docs.dask.org/en/stable/graphs.html). The task graph breaks down a larger task into smaller subtasks represented by the *node*, with *edges* between nodes if it the subtask dependent on another subtask. \n",
    "    \n",
    "After generating a task graph, it needs to be executed on (parallel) hardware. This is the job of a [task scheduler](https://docs.dask.org/en/stable/scheduler-overview.html). Dask provides several *task schedulers*: each of which will compute a task graph and give the same result, but with different performance characteristics. The default scheduler is the [`ThreadPoolExecutor`](https://docs.dask.org/en/stable/scheduling.html#local-threads). The threaded scheduler takes the argument `num_workers`, which sets the number of threads to use.\n",
    "\n",
    "As an example, we create the task graph for the frozen phonon simulation above. We set the scheduler explicitly and change the number of workers to 2. Note that changing the number of workers may not always affect the computational time significantly, as NumPy and the FFT libraries also has parallelism."
   ]
  },
  {
   "cell_type": "code",
   "execution_count": null,
   "id": "0e53f947-e912-4af8-899e-344eafa2abff",
   "metadata": {},
   "outputs": [],
   "source": [
    "exit_waves = probe.multislice(potential=frozen_phonon_potential)\n",
    "\n",
    "exit_waves.array"
   ]
  },
  {
   "cell_type": "code",
   "execution_count": null,
   "id": "12139946-49a4-4997-abd7-b5b9b672cbd5",
   "metadata": {},
   "outputs": [],
   "source": [
    "exit_waves = probe.multislice(potential=frozen_phonon_potential)\n",
    "\n",
    "exit_waves.compute(scheduler=\"threads\", num_workers=2)"
   ]
  },
  {
   "cell_type": "code",
   "execution_count": null,
   "id": "085efd04-9cdc-4d5d-bf09-7b2bdc0286ba",
   "metadata": {},
   "outputs": [],
   "source": []
  },
  {
   "cell_type": "markdown",
   "id": "786cd340-75e6-4df0-a147-985be87cdd35",
   "metadata": {},
   "source": [
    "The Dask distributed scheduler is necessary for running your simulations on a cluster, but it also runs [locally on a personal machine](https://docs.dask.org/en/stable/scheduling.html#dask-distributed-local). \n",
    "\n",
    "You can use the Dask distributed scheduler by initializing a [Dask Client](https://distributed.dask.org/en/stable/client.html). The `Client` takes keyword arguments such as `n_workers` (note that this is different from `num_workers` above!) and `threads_per_worker`."
   ]
  },
  {
   "cell_type": "code",
   "execution_count": null,
   "id": "9e971dde-b030-4c60-9eda-02a85074a1a6",
   "metadata": {},
   "outputs": [],
   "source": [
    "from dask.distributed import Client\n",
    "\n",
    "client = Client(n_workers=4, threads_per_worker=1)\n",
    "\n",
    "client"
   ]
  },
  {
   "cell_type": "markdown",
   "id": "525d01ea-dfe7-444b-9723-b29b9d4a27cd",
   "metadata": {},
   "source": [
    "A benefit of using the distributed scheduler on a single machine is the live diagnostic dashboard. You can access this through the Dashboard link shown above.\n",
    "\n",
    "We run the frozen phonons calculation with the dsitributed scheduler as an example. When a client is active we should not provide any arguments to `compute`."
   ]
  },
  {
   "cell_type": "code",
   "execution_count": null,
   "id": "8b82a500-e458-4d27-a689-17e639b6135d",
   "metadata": {},
   "outputs": [],
   "source": [
    "exit_waves = probe.multislice(potential=frozen_phonon_potential)\n",
    "\n",
    "exit_waves.compute()"
   ]
  }
 ],
 "metadata": {
  "kernelspec": {
   "display_name": "Python 3 (ipykernel)",
   "language": "python",
   "name": "python3"
  },
  "language_info": {
   "codemirror_mode": {
    "name": "ipython",
    "version": 3
   },
   "file_extension": ".py",
   "mimetype": "text/x-python",
   "name": "python",
   "nbconvert_exporter": "python",
   "pygments_lexer": "ipython3",
   "version": "3.11.7"
  },
  "widgets": {
   "application/vnd.jupyter.widget-state+json": {
    "state": {},
    "version_major": 2,
    "version_minor": 0
   }
  }
 },
 "nbformat": 4,
 "nbformat_minor": 5
}
