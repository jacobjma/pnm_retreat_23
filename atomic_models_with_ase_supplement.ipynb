{
 "cells": [
  {
   "cell_type": "markdown",
   "id": "d026f748-7d1c-47f3-bdc6-e52260be5bc4",
   "metadata": {},
   "source": [
    "# Nanoparticle on amorphous carbon <a id='nanoparticle'></a>\n",
    "\n",
    "In this slightly more advanced example, we create a model of a coppper nanoparticle on amorphous carbon. \n",
    "A rough model of the carbon substrate is created by taking a diamond crystal and randomly displacing the atoms. The [`bulk`](https://wiki.fysik.dtu.dk/ase/ase/build/build.html#common-bulk-crystals) function can create common bulk crystal structures. "
   ]
  },
  {
   "cell_type": "code",
   "execution_count": null,
   "id": "8f60bde4-3cee-492e-b094-e73acbcb421c",
   "metadata": {},
   "outputs": [],
   "source": [
    "%matplotlib inline\n",
    "\n",
    "import abtem\n",
    "import ase\n",
    "import matplotlib.pyplot as plt\n",
    "import numpy as np\n",
    "from ase.visualize import view"
   ]
  },
  {
   "cell_type": "code",
   "execution_count": null,
   "id": "2a167354-6d03-4aa2-91f7-4eeb3a1a102f",
   "metadata": {},
   "outputs": [],
   "source": [
    "from ase.build import bulk\n",
    "\n",
    "carbon = bulk(\"C\", cubic=True)\n",
    "\n",
    "carbon *= (14, 14, 14)\n",
    "\n",
    "carbon.positions[:] += (\n",
    "    np.random.randn(len(carbon), 3) * 0.5\n",
    ")  # displace atoms with a standard deviation of .5 Å\n",
    "\n",
    "carbon.wrap()\n",
    "\n",
    "abtem.show_atoms(carbon)"
   ]
  },
  {
   "cell_type": "markdown",
   "id": "61976ff1-4282-4329-8c29-0731d5933b0d",
   "metadata": {},
   "source": [
    "ASE has modules for procedurally generating special structures such as [carbon nanotubes](https://wiki.fysik.dtu.dk/ase/ase/build/build.html#nanotubes) and [nanoparticles](https://wiki.fysik.dtu.dk/ase/ase/cluster/cluster.html). Here, we will use the `Decahedron` function to create a Decahedral gold nanoparticle. The nanoparticle is then rotated 30 degrees around the $x$-axis."
   ]
  },
  {
   "cell_type": "code",
   "execution_count": null,
   "id": "2780ebf3-360d-4e8b-8e1b-ee51f280a5d8",
   "metadata": {},
   "outputs": [],
   "source": [
    "from ase.cluster import Decahedron\n",
    "\n",
    "cluster = Decahedron(\n",
    "    \"Cu\",\n",
    "    10,  # Number of atoms on the facets perpendicular to the five fold axis.\n",
    "    2,  # Number of atoms on the facets parallel to the five fold axis.\n",
    "    0,  # Depth of re-entrence at the pentagon corners.\n",
    ")\n",
    "\n",
    "cluster.rotate(\"x\", 30)\n",
    "\n",
    "abtem.show_atoms(cluster)"
   ]
  },
  {
   "cell_type": "markdown",
   "id": "03984e31-5bca-4a81-a138-bcb06fe37bc8",
   "metadata": {},
   "source": [
    "The nanoparticle is moved to the top center of the carbon structure using the `.translate` method."
   ]
  },
  {
   "cell_type": "code",
   "execution_count": null,
   "id": "d6fe7180-96fc-4d70-b71b-7ea8363f7eb4",
   "metadata": {},
   "outputs": [],
   "source": [
    "center_height = 30\n",
    "\n",
    "translated_cluster = cluster.copy()\n",
    "\n",
    "translated_cluster.translate(np.diag(carbon.cell) / 2 + (0, 0, center_height))"
   ]
  },
  {
   "cell_type": "markdown",
   "id": "890cf762-e525-4e35-9229-b1bf1eba44b8",
   "metadata": {},
   "source": [
    "The nanoparticle and amourphous substrate is combined in a single model by simply adding them together."
   ]
  },
  {
   "cell_type": "code",
   "execution_count": null,
   "id": "29fa0288-b54f-4f9d-a4fb-599e8de99817",
   "metadata": {},
   "outputs": [],
   "source": [
    "cluster_on_carbon = carbon + translated_cluster\n",
    "\n",
    "#cluster_on_carbon.wrap()\n",
    "\n",
    "abtem.show_atoms(cluster_on_carbon, plane=\"xz\")"
   ]
  },
  {
   "cell_type": "markdown",
   "id": "ff78e8d7-1a28-48a8-8e40-a71b6a107651",
   "metadata": {},
   "source": [
    "Then the combined structure is centered along the $z$-axis, and the supercell is adjusted such that there is a vacuum of $4 \\ \\mathrm{Å}$ on the top and bottom of the model."
   ]
  },
  {
   "cell_type": "code",
   "execution_count": null,
   "id": "a699f501-1b54-4471-a796-e2ce611a5eb2",
   "metadata": {},
   "outputs": [],
   "source": [
    "cluster_on_carbon.center(axis=2, vacuum=4)"
   ]
  },
  {
   "cell_type": "code",
   "execution_count": null,
   "id": "d5720b8c-c201-4860-8c55-24b93a91e00c",
   "metadata": {},
   "outputs": [],
   "source": [
    "rotated = cluster_on_carbon.copy()\n",
    "\n",
    "rotated.rotate(\"x\", 180, rotate_cell=True)"
   ]
  },
  {
   "cell_type": "code",
   "execution_count": null,
   "id": "f097f13a-9ba9-4dfd-9452-1d6ee88fe89b",
   "metadata": {},
   "outputs": [],
   "source": [
    "fig, (ax1, ax2) = plt.subplots(1, 2, figsize=(10, 4))\n",
    "\n",
    "abtem.show_atoms(rotated, plane=\"yx\", ax=ax1)\n",
    "abtem.show_atoms(cluster_on_carbon, plane=\"xz\", ax=ax2)"
   ]
  },
  {
   "cell_type": "code",
   "execution_count": null,
   "id": "c011fdb3-139d-4261-9a66-30036c6da762",
   "metadata": {},
   "outputs": [],
   "source": [
    "potential = abtem.Potential(cluster_on_carbon, sampling=.05)"
   ]
  },
  {
   "cell_type": "code",
   "execution_count": null,
   "id": "7d328dd6-890b-4dc7-b3d3-0d4b21ef932e",
   "metadata": {},
   "outputs": [],
   "source": [
    "projected = potential.build().to_images().compute()"
   ]
  },
  {
   "cell_type": "code",
   "execution_count": null,
   "id": "82fa164f-4ac5-43e8-bf48-a0adadf2b06f",
   "metadata": {},
   "outputs": [],
   "source": [
    "\n",
    "fig, ax = plt.subplots()\n",
    "visualization = projected.show(ax=ax, display=False)\n",
    "visualization.axis_off()\n",
    "visualization.adjust_tight_bbox()\n",
    "\n",
    "animation = visualization.animate(interval=100)\n",
    "animation.save(\"../intro_multislice/potential.gif\", writer=\"pillow\")"
   ]
  },
  {
   "cell_type": "markdown",
   "id": "ad7e66b9-e66d-48b0-8b99-db827a10a214",
   "metadata": {},
   "source": [
    "Finally, the model is written to disk."
   ]
  },
  {
   "cell_type": "code",
   "execution_count": null,
   "id": "d97b9b8f-b928-4bb9-8e5e-0a57952b6e53",
   "metadata": {},
   "outputs": [],
   "source": [
    "write(\"cluster_on_carbon.cfg\", cluster_on_carbon)"
   ]
  }
 ],
 "metadata": {
  "kernelspec": {
   "display_name": "Python 3 (ipykernel)",
   "language": "python",
   "name": "python3"
  },
  "language_info": {
   "codemirror_mode": {
    "name": "ipython",
    "version": 3
   },
   "file_extension": ".py",
   "mimetype": "text/x-python",
   "name": "python",
   "nbconvert_exporter": "python",
   "pygments_lexer": "ipython3",
   "version": "3.10.13"
  },
  "widgets": {
   "application/vnd.jupyter.widget-state+json": {
    "state": {},
    "version_major": 2,
    "version_minor": 0
   }
  }
 },
 "nbformat": 4,
 "nbformat_minor": 5
}
