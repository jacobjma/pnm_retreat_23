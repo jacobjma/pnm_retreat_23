{
 "cells": [
  {
   "cell_type": "markdown",
   "id": "57587d6e-1b33-4a9c-9789-cf2308b093a8",
   "metadata": {},
   "source": [
    "# Data formats\n",
    "\n",
    "Good agreement about data formats (and storage):\n",
    "\n",
    "* Reduces time and errors\n",
    "* Use of common tools\n",
    "* Easy Reproducibility\n",
    "* Collaboration (use of global formats)\n",
    "    \n",
    "Overall, just smoother research.\n",
    "\n",
    "Sharing data?"
   ]
  },
  {
   "cell_type": "markdown",
   "id": "9878cebb-0e1e-4b3b-8adb-36cfd6145fce",
   "metadata": {},
   "source": [
    "### Types of data:"
   ]
  },
  {
   "cell_type": "markdown",
   "id": "b803d76a-3e94-4535-a617-14c8b7bf53a1",
   "metadata": {},
   "source": [
    "* Main signal\n",
    "    * Images\n",
    "    * Spectrocopic signals 1D\n",
    "    * Spectroscopic images 2D x 1D\n",
    "    * 4D-STEM 2D x 2D\n",
    "* Auxilliary data\n",
    "    * Metadata (typically as dictionary)\n",
    "    * Tabular data"
   ]
  },
  {
   "cell_type": "markdown",
   "id": "de2037c6-d472-4482-805e-37dfeae1273e",
   "metadata": {},
   "source": [
    "### Filetypes:"
   ]
  },
  {
   "cell_type": "markdown",
   "id": "c9669bce-f60e-4d69-90d6-7298463d08d3",
   "metadata": {},
   "source": [
    "* Arrays (of float):\n",
    "    * tif\n",
    "    * npy\n",
    "    * hdf5\n",
    "    * zarr\n",
    "    * netcdf\n",
    "    * dm3/dm4\n",
    "* Dictionary or tabular\n",
    "    * json\n",
    "    * csv"
   ]
  },
  {
   "cell_type": "markdown",
   "id": "05a18785-fc55-4bd4-89a4-b2ee09751e6a",
   "metadata": {},
   "source": [
    "### Libraries:"
   ]
  },
  {
   "cell_type": "markdown",
   "id": "8124184d-11c3-4ea8-8381-9dfd64291daa",
   "metadata": {},
   "source": [
    "* NumPy\n",
    "    * npy\n",
    "    * backbone of the proceeding libraries\n",
    "* scikit-image (tif, jpeg)\n",
    "    * tif, jpeg, png etc.\n",
    "    * tifffile library necessary for reading embedded metadata\n",
    "* Nionswift (npy + json, tiff + json, hdf5)\n",
    "    * npy, tiff, hdf\n",
    "    * json for metadata, except for hdf5\n",
    "* Hyperspy\n",
    "    * npy, tiff, hdf5 (hspy), zarr (zspy)\n",
    "    * json for metadata, except for hdf5 and zarr\n",
    "* pandas\n",
    "    * csv \n",
    "* Xarray (zarr, Netcdf)\n",
    "    * zarr, netcdf"
   ]
  },
  {
   "cell_type": "markdown",
   "id": "303269ba-61cd-41b5-add4-442fb1e117a2",
   "metadata": {},
   "source": [
    "### Example: scan maps"
   ]
  },
  {
   "cell_type": "code",
   "execution_count": 1,
   "id": "94e05f69-91aa-4994-a5d5-4a42aacf684d",
   "metadata": {},
   "outputs": [],
   "source": [
    "import os\n",
    "from skimage.io import imread\n",
    "import dask\n",
    "import dask.array as da\n",
    "import numpy as np\n",
    "import matplotlib.pyplot as plt\n",
    "from scipy.ndimage import gaussian_filter"
   ]
  },
  {
   "cell_type": "code",
   "execution_count": 2,
   "id": "262677cb-02d8-4bee-8412-0ac95aa742a4",
   "metadata": {},
   "outputs": [],
   "source": [
    "dirname = \"data/map_2022_12_21_15_47/\"\n",
    "fnames = os.listdir(dirname)"
   ]
  },
  {
   "cell_type": "code",
   "execution_count": 3,
   "id": "f3e1363f-c3f9-45a5-a2e8-0e4a7cafe4d2",
   "metadata": {},
   "outputs": [],
   "source": [
    "fnames = [fname for fname in fnames if fname[:4].isdigit()]\n",
    "paths = [os.path.join(dirname, fname) for fname in fnames]"
   ]
  },
  {
   "cell_type": "code",
   "execution_count": 4,
   "id": "c7a70b8b-ed67-4f5b-95e6-8664373fcde0",
   "metadata": {},
   "outputs": [],
   "source": [
    "lazy_images = [dask.delayed(imread)(path) for path in paths]\n",
    "\n",
    "lazy_stack = [da.from_delayed(image, shape=(2048,2048), dtype=np.float32) for image in lazy_images]\n",
    "\n",
    "lazy_stack = da.stack(lazy_stack, axis=0)"
   ]
  },
  {
   "cell_type": "code",
   "execution_count": 5,
   "id": "fc07d2c5-b17c-4ce9-89ac-12c9a13b1702",
   "metadata": {},
   "outputs": [],
   "source": [
    "images = lazy_stack[:]\n",
    "\n",
    "filtered_images = images.map_blocks(gaussian_filter, sigma=10)"
   ]
  },
  {
   "cell_type": "code",
   "execution_count": 6,
   "id": "848c4dba-bafc-4b91-90ea-ceb8145ea5dc",
   "metadata": {},
   "outputs": [
    {
     "ename": "PermissionError",
     "evalue": "[WinError 32] Processen kan ikke få adgang til filen, da den bruges af en anden proces: 'D:\\\\Dropbox\\\\pnm_group_retreat\\\\data\\\\map_2022_12_21_15_47\\\\.zarr\\\\382.0.0.10d1286e865248498c4289163d4c9c2e.partial'",
     "output_type": "error",
     "traceback": [
      "\u001b[1;31m---------------------------------------------------------------------------\u001b[0m",
      "\u001b[1;31mPermissionError\u001b[0m                           Traceback (most recent call last)",
      "File \u001b[1;32m~\\miniconda3\\envs\\abtem\\Lib\\site-packages\\zarr\\storage.py:1149\u001b[0m, in \u001b[0;36mDirectoryStore.__setitem__\u001b[1;34m(self, key, value)\u001b[0m\n\u001b[0;32m   1146\u001b[0m     \u001b[38;5;66;03m# move temporary file into place;\u001b[39;00m\n\u001b[0;32m   1147\u001b[0m     \u001b[38;5;66;03m# make several attempts at writing the temporary file to get past\u001b[39;00m\n\u001b[0;32m   1148\u001b[0m     \u001b[38;5;66;03m# potential antivirus file locking issues\u001b[39;00m\n\u001b[1;32m-> 1149\u001b[0m     \u001b[43mretry_call\u001b[49m\u001b[43m(\u001b[49m\u001b[43mos\u001b[49m\u001b[38;5;241;43m.\u001b[39;49m\u001b[43mreplace\u001b[49m\u001b[43m,\u001b[49m\u001b[43m \u001b[49m\u001b[43m(\u001b[49m\u001b[43mtemp_path\u001b[49m\u001b[43m,\u001b[49m\u001b[43m \u001b[49m\u001b[43mfile_path\u001b[49m\u001b[43m)\u001b[49m\u001b[43m,\u001b[49m\u001b[43m \u001b[49m\u001b[43mexceptions\u001b[49m\u001b[38;5;241;43m=\u001b[39;49m\u001b[43m(\u001b[49m\u001b[38;5;167;43;01mPermissionError\u001b[39;49;00m\u001b[43m,\u001b[49m\u001b[43m)\u001b[49m\u001b[43m)\u001b[49m\n\u001b[0;32m   1151\u001b[0m \u001b[38;5;28;01mfinally\u001b[39;00m:\n\u001b[0;32m   1152\u001b[0m     \u001b[38;5;66;03m# clean up if temp file still exists for whatever reason\u001b[39;00m\n",
      "File \u001b[1;32m~\\miniconda3\\envs\\abtem\\Lib\\site-packages\\zarr\\util.py:695\u001b[0m, in \u001b[0;36mretry_call\u001b[1;34m(callabl, args, kwargs, exceptions, retries, wait)\u001b[0m\n\u001b[0;32m    694\u001b[0m \u001b[38;5;28;01mtry\u001b[39;00m:\n\u001b[1;32m--> 695\u001b[0m     \u001b[38;5;28;01mreturn\u001b[39;00m \u001b[43mcallabl\u001b[49m\u001b[43m(\u001b[49m\u001b[38;5;241;43m*\u001b[39;49m\u001b[43margs\u001b[49m\u001b[43m,\u001b[49m\u001b[43m \u001b[49m\u001b[38;5;241;43m*\u001b[39;49m\u001b[38;5;241;43m*\u001b[39;49m\u001b[43mkwargs\u001b[49m\u001b[43m)\u001b[49m\n\u001b[0;32m    696\u001b[0m \u001b[38;5;28;01mexcept\u001b[39;00m exceptions:\n",
      "\u001b[1;31mPermissionError\u001b[0m: [WinError 32] Processen kan ikke få adgang til filen, da den bruges af en anden proces: 'D:\\\\Dropbox\\\\pnm_group_retreat\\\\data\\\\map_2022_12_21_15_47\\\\.zarr\\\\382.0.0.10d1286e865248498c4289163d4c9c2e.partial' -> 'D:\\\\Dropbox\\\\pnm_group_retreat\\\\data\\\\map_2022_12_21_15_47\\\\.zarr\\\\382.0.0'",
      "\nDuring handling of the above exception, another exception occurred:\n",
      "\u001b[1;31mPermissionError\u001b[0m                           Traceback (most recent call last)",
      "Cell \u001b[1;32mIn[6], line 1\u001b[0m\n\u001b[1;32m----> 1\u001b[0m \u001b[43mimages\u001b[49m\u001b[38;5;241;43m.\u001b[39;49m\u001b[43mto_zarr\u001b[49m\u001b[43m(\u001b[49m\u001b[43mdirname\u001b[49m\u001b[43m \u001b[49m\u001b[38;5;241;43m+\u001b[39;49m\u001b[43m \u001b[49m\u001b[38;5;124;43m\"\u001b[39;49m\u001b[38;5;124;43m.zarr\u001b[39;49m\u001b[38;5;124;43m\"\u001b[39;49m\u001b[43m,\u001b[49m\u001b[43m \u001b[49m\u001b[43moverwrite\u001b[49m\u001b[38;5;241;43m=\u001b[39;49m\u001b[38;5;28;43;01mTrue\u001b[39;49;00m\u001b[43m)\u001b[49m\n",
      "File \u001b[1;32m~\\miniconda3\\envs\\abtem\\Lib\\site-packages\\dask\\array\\core.py:2948\u001b[0m, in \u001b[0;36mArray.to_zarr\u001b[1;34m(self, *args, **kwargs)\u001b[0m\n\u001b[0;32m   2937\u001b[0m \u001b[38;5;28;01mdef\u001b[39;00m \u001b[38;5;21mto_zarr\u001b[39m(\u001b[38;5;28mself\u001b[39m, \u001b[38;5;241m*\u001b[39margs, \u001b[38;5;241m*\u001b[39m\u001b[38;5;241m*\u001b[39mkwargs):\n\u001b[0;32m   2938\u001b[0m \u001b[38;5;250m    \u001b[39m\u001b[38;5;124;03m\"\"\"Save array to the zarr storage format\u001b[39;00m\n\u001b[0;32m   2939\u001b[0m \n\u001b[0;32m   2940\u001b[0m \u001b[38;5;124;03m    See https://zarr.readthedocs.io for details about the format.\u001b[39;00m\n\u001b[1;32m   (...)\u001b[0m\n\u001b[0;32m   2946\u001b[0m \u001b[38;5;124;03m    dask.array.to_zarr : equivalent function\u001b[39;00m\n\u001b[0;32m   2947\u001b[0m \u001b[38;5;124;03m    \"\"\"\u001b[39;00m\n\u001b[1;32m-> 2948\u001b[0m     \u001b[38;5;28;01mreturn\u001b[39;00m \u001b[43mto_zarr\u001b[49m\u001b[43m(\u001b[49m\u001b[38;5;28;43mself\u001b[39;49m\u001b[43m,\u001b[49m\u001b[43m \u001b[49m\u001b[38;5;241;43m*\u001b[39;49m\u001b[43margs\u001b[49m\u001b[43m,\u001b[49m\u001b[43m \u001b[49m\u001b[38;5;241;43m*\u001b[39;49m\u001b[38;5;241;43m*\u001b[39;49m\u001b[43mkwargs\u001b[49m\u001b[43m)\u001b[49m\n",
      "File \u001b[1;32m~\\miniconda3\\envs\\abtem\\Lib\\site-packages\\dask\\array\\core.py:3730\u001b[0m, in \u001b[0;36mto_zarr\u001b[1;34m(arr, url, component, storage_options, overwrite, region, compute, return_stored, **kwargs)\u001b[0m\n\u001b[0;32m   3719\u001b[0m chunks \u001b[38;5;241m=\u001b[39m [c[\u001b[38;5;241m0\u001b[39m] \u001b[38;5;28;01mfor\u001b[39;00m c \u001b[38;5;129;01min\u001b[39;00m arr\u001b[38;5;241m.\u001b[39mchunks]\n\u001b[0;32m   3721\u001b[0m z \u001b[38;5;241m=\u001b[39m zarr\u001b[38;5;241m.\u001b[39mcreate(\n\u001b[0;32m   3722\u001b[0m     shape\u001b[38;5;241m=\u001b[39marr\u001b[38;5;241m.\u001b[39mshape,\n\u001b[0;32m   3723\u001b[0m     chunks\u001b[38;5;241m=\u001b[39mchunks,\n\u001b[1;32m   (...)\u001b[0m\n\u001b[0;32m   3728\u001b[0m     \u001b[38;5;241m*\u001b[39m\u001b[38;5;241m*\u001b[39mkwargs,\n\u001b[0;32m   3729\u001b[0m )\n\u001b[1;32m-> 3730\u001b[0m \u001b[38;5;28;01mreturn\u001b[39;00m \u001b[43marr\u001b[49m\u001b[38;5;241;43m.\u001b[39;49m\u001b[43mstore\u001b[49m\u001b[43m(\u001b[49m\u001b[43mz\u001b[49m\u001b[43m,\u001b[49m\u001b[43m \u001b[49m\u001b[43mlock\u001b[49m\u001b[38;5;241;43m=\u001b[39;49m\u001b[38;5;28;43;01mFalse\u001b[39;49;00m\u001b[43m,\u001b[49m\u001b[43m \u001b[49m\u001b[43mcompute\u001b[49m\u001b[38;5;241;43m=\u001b[39;49m\u001b[43mcompute\u001b[49m\u001b[43m,\u001b[49m\u001b[43m \u001b[49m\u001b[43mreturn_stored\u001b[49m\u001b[38;5;241;43m=\u001b[39;49m\u001b[43mreturn_stored\u001b[49m\u001b[43m)\u001b[49m\n",
      "File \u001b[1;32m~\\miniconda3\\envs\\abtem\\Lib\\site-packages\\dask\\array\\core.py:1768\u001b[0m, in \u001b[0;36mArray.store\u001b[1;34m(self, target, **kwargs)\u001b[0m\n\u001b[0;32m   1766\u001b[0m \u001b[38;5;129m@wraps\u001b[39m(store)\n\u001b[0;32m   1767\u001b[0m \u001b[38;5;28;01mdef\u001b[39;00m \u001b[38;5;21mstore\u001b[39m(\u001b[38;5;28mself\u001b[39m, target, \u001b[38;5;241m*\u001b[39m\u001b[38;5;241m*\u001b[39mkwargs):\n\u001b[1;32m-> 1768\u001b[0m     r \u001b[38;5;241m=\u001b[39m \u001b[43mstore\u001b[49m\u001b[43m(\u001b[49m\u001b[43m[\u001b[49m\u001b[38;5;28;43mself\u001b[39;49m\u001b[43m]\u001b[49m\u001b[43m,\u001b[49m\u001b[43m \u001b[49m\u001b[43m[\u001b[49m\u001b[43mtarget\u001b[49m\u001b[43m]\u001b[49m\u001b[43m,\u001b[49m\u001b[43m \u001b[49m\u001b[38;5;241;43m*\u001b[39;49m\u001b[38;5;241;43m*\u001b[39;49m\u001b[43mkwargs\u001b[49m\u001b[43m)\u001b[49m\n\u001b[0;32m   1770\u001b[0m     \u001b[38;5;28;01mif\u001b[39;00m kwargs\u001b[38;5;241m.\u001b[39mget(\u001b[38;5;124m\"\u001b[39m\u001b[38;5;124mreturn_stored\u001b[39m\u001b[38;5;124m\"\u001b[39m, \u001b[38;5;28;01mFalse\u001b[39;00m):\n\u001b[0;32m   1771\u001b[0m         r \u001b[38;5;241m=\u001b[39m r[\u001b[38;5;241m0\u001b[39m]\n",
      "File \u001b[1;32m~\\miniconda3\\envs\\abtem\\Lib\\site-packages\\dask\\array\\core.py:1236\u001b[0m, in \u001b[0;36mstore\u001b[1;34m(***failed resolving arguments***)\u001b[0m\n\u001b[0;32m   1234\u001b[0m \u001b[38;5;28;01melif\u001b[39;00m compute:\n\u001b[0;32m   1235\u001b[0m     store_dsk \u001b[38;5;241m=\u001b[39m HighLevelGraph(layers, dependencies)\n\u001b[1;32m-> 1236\u001b[0m     \u001b[43mcompute_as_if_collection\u001b[49m\u001b[43m(\u001b[49m\u001b[43mArray\u001b[49m\u001b[43m,\u001b[49m\u001b[43m \u001b[49m\u001b[43mstore_dsk\u001b[49m\u001b[43m,\u001b[49m\u001b[43m \u001b[49m\u001b[43mmap_keys\u001b[49m\u001b[43m,\u001b[49m\u001b[43m \u001b[49m\u001b[38;5;241;43m*\u001b[39;49m\u001b[38;5;241;43m*\u001b[39;49m\u001b[43mkwargs\u001b[49m\u001b[43m)\u001b[49m\n\u001b[0;32m   1237\u001b[0m     \u001b[38;5;28;01mreturn\u001b[39;00m \u001b[38;5;28;01mNone\u001b[39;00m\n\u001b[0;32m   1239\u001b[0m \u001b[38;5;28;01melse\u001b[39;00m:\n",
      "File \u001b[1;32m~\\miniconda3\\envs\\abtem\\Lib\\site-packages\\dask\\base.py:369\u001b[0m, in \u001b[0;36mcompute_as_if_collection\u001b[1;34m(cls, dsk, keys, scheduler, get, **kwargs)\u001b[0m\n\u001b[0;32m    367\u001b[0m schedule \u001b[38;5;241m=\u001b[39m get_scheduler(scheduler\u001b[38;5;241m=\u001b[39mscheduler, \u001b[38;5;28mcls\u001b[39m\u001b[38;5;241m=\u001b[39m\u001b[38;5;28mcls\u001b[39m, get\u001b[38;5;241m=\u001b[39mget)\n\u001b[0;32m    368\u001b[0m dsk2 \u001b[38;5;241m=\u001b[39m optimization_function(\u001b[38;5;28mcls\u001b[39m)(dsk, keys, \u001b[38;5;241m*\u001b[39m\u001b[38;5;241m*\u001b[39mkwargs)\n\u001b[1;32m--> 369\u001b[0m \u001b[38;5;28;01mreturn\u001b[39;00m \u001b[43mschedule\u001b[49m\u001b[43m(\u001b[49m\u001b[43mdsk2\u001b[49m\u001b[43m,\u001b[49m\u001b[43m \u001b[49m\u001b[43mkeys\u001b[49m\u001b[43m,\u001b[49m\u001b[43m \u001b[49m\u001b[38;5;241;43m*\u001b[39;49m\u001b[38;5;241;43m*\u001b[39;49m\u001b[43mkwargs\u001b[49m\u001b[43m)\u001b[49m\n",
      "File \u001b[1;32m~\\miniconda3\\envs\\abtem\\Lib\\site-packages\\dask\\threaded.py:90\u001b[0m, in \u001b[0;36mget\u001b[1;34m(dsk, keys, cache, num_workers, pool, **kwargs)\u001b[0m\n\u001b[0;32m     87\u001b[0m     \u001b[38;5;28;01melif\u001b[39;00m \u001b[38;5;28misinstance\u001b[39m(pool, multiprocessing\u001b[38;5;241m.\u001b[39mpool\u001b[38;5;241m.\u001b[39mPool):\n\u001b[0;32m     88\u001b[0m         pool \u001b[38;5;241m=\u001b[39m MultiprocessingPoolExecutor(pool)\n\u001b[1;32m---> 90\u001b[0m results \u001b[38;5;241m=\u001b[39m \u001b[43mget_async\u001b[49m\u001b[43m(\u001b[49m\n\u001b[0;32m     91\u001b[0m \u001b[43m    \u001b[49m\u001b[43mpool\u001b[49m\u001b[38;5;241;43m.\u001b[39;49m\u001b[43msubmit\u001b[49m\u001b[43m,\u001b[49m\n\u001b[0;32m     92\u001b[0m \u001b[43m    \u001b[49m\u001b[43mpool\u001b[49m\u001b[38;5;241;43m.\u001b[39;49m\u001b[43m_max_workers\u001b[49m\u001b[43m,\u001b[49m\n\u001b[0;32m     93\u001b[0m \u001b[43m    \u001b[49m\u001b[43mdsk\u001b[49m\u001b[43m,\u001b[49m\n\u001b[0;32m     94\u001b[0m \u001b[43m    \u001b[49m\u001b[43mkeys\u001b[49m\u001b[43m,\u001b[49m\n\u001b[0;32m     95\u001b[0m \u001b[43m    \u001b[49m\u001b[43mcache\u001b[49m\u001b[38;5;241;43m=\u001b[39;49m\u001b[43mcache\u001b[49m\u001b[43m,\u001b[49m\n\u001b[0;32m     96\u001b[0m \u001b[43m    \u001b[49m\u001b[43mget_id\u001b[49m\u001b[38;5;241;43m=\u001b[39;49m\u001b[43m_thread_get_id\u001b[49m\u001b[43m,\u001b[49m\n\u001b[0;32m     97\u001b[0m \u001b[43m    \u001b[49m\u001b[43mpack_exception\u001b[49m\u001b[38;5;241;43m=\u001b[39;49m\u001b[43mpack_exception\u001b[49m\u001b[43m,\u001b[49m\n\u001b[0;32m     98\u001b[0m \u001b[43m    \u001b[49m\u001b[38;5;241;43m*\u001b[39;49m\u001b[38;5;241;43m*\u001b[39;49m\u001b[43mkwargs\u001b[49m\u001b[43m,\u001b[49m\n\u001b[0;32m     99\u001b[0m \u001b[43m\u001b[49m\u001b[43m)\u001b[49m\n\u001b[0;32m    101\u001b[0m \u001b[38;5;66;03m# Cleanup pools associated to dead threads\u001b[39;00m\n\u001b[0;32m    102\u001b[0m \u001b[38;5;28;01mwith\u001b[39;00m pools_lock:\n",
      "File \u001b[1;32m~\\miniconda3\\envs\\abtem\\Lib\\site-packages\\dask\\local.py:512\u001b[0m, in \u001b[0;36mget_async\u001b[1;34m(submit, num_workers, dsk, result, cache, get_id, rerun_exceptions_locally, pack_exception, raise_exception, callbacks, dumps, loads, chunksize, **kwargs)\u001b[0m\n\u001b[0;32m    510\u001b[0m         _execute_task(task, data)  \u001b[38;5;66;03m# Re-execute locally\u001b[39;00m\n\u001b[0;32m    511\u001b[0m     \u001b[38;5;28;01melse\u001b[39;00m:\n\u001b[1;32m--> 512\u001b[0m         \u001b[43mraise_exception\u001b[49m\u001b[43m(\u001b[49m\u001b[43mexc\u001b[49m\u001b[43m,\u001b[49m\u001b[43m \u001b[49m\u001b[43mtb\u001b[49m\u001b[43m)\u001b[49m\n\u001b[0;32m    513\u001b[0m res, worker_id \u001b[38;5;241m=\u001b[39m loads(res_info)\n\u001b[0;32m    514\u001b[0m state[\u001b[38;5;124m\"\u001b[39m\u001b[38;5;124mcache\u001b[39m\u001b[38;5;124m\"\u001b[39m][key] \u001b[38;5;241m=\u001b[39m res\n",
      "File \u001b[1;32m~\\miniconda3\\envs\\abtem\\Lib\\site-packages\\dask\\local.py:320\u001b[0m, in \u001b[0;36mreraise\u001b[1;34m(exc, tb)\u001b[0m\n\u001b[0;32m    318\u001b[0m \u001b[38;5;28;01mif\u001b[39;00m exc\u001b[38;5;241m.\u001b[39m__traceback__ \u001b[38;5;129;01mis\u001b[39;00m \u001b[38;5;129;01mnot\u001b[39;00m tb:\n\u001b[0;32m    319\u001b[0m     \u001b[38;5;28;01mraise\u001b[39;00m exc\u001b[38;5;241m.\u001b[39mwith_traceback(tb)\n\u001b[1;32m--> 320\u001b[0m \u001b[38;5;28;01mraise\u001b[39;00m exc\n",
      "File \u001b[1;32m~\\miniconda3\\envs\\abtem\\Lib\\site-packages\\dask\\local.py:225\u001b[0m, in \u001b[0;36mexecute_task\u001b[1;34m(key, task_info, dumps, loads, get_id, pack_exception)\u001b[0m\n\u001b[0;32m    223\u001b[0m \u001b[38;5;28;01mtry\u001b[39;00m:\n\u001b[0;32m    224\u001b[0m     task, data \u001b[38;5;241m=\u001b[39m loads(task_info)\n\u001b[1;32m--> 225\u001b[0m     result \u001b[38;5;241m=\u001b[39m \u001b[43m_execute_task\u001b[49m\u001b[43m(\u001b[49m\u001b[43mtask\u001b[49m\u001b[43m,\u001b[49m\u001b[43m \u001b[49m\u001b[43mdata\u001b[49m\u001b[43m)\u001b[49m\n\u001b[0;32m    226\u001b[0m     \u001b[38;5;28mid\u001b[39m \u001b[38;5;241m=\u001b[39m get_id()\n\u001b[0;32m    227\u001b[0m     result \u001b[38;5;241m=\u001b[39m dumps((result, \u001b[38;5;28mid\u001b[39m))\n",
      "File \u001b[1;32m~\\miniconda3\\envs\\abtem\\Lib\\site-packages\\dask\\core.py:127\u001b[0m, in \u001b[0;36m_execute_task\u001b[1;34m(arg, cache, dsk)\u001b[0m\n\u001b[0;32m    123\u001b[0m     func, args \u001b[38;5;241m=\u001b[39m arg[\u001b[38;5;241m0\u001b[39m], arg[\u001b[38;5;241m1\u001b[39m:]\n\u001b[0;32m    124\u001b[0m     \u001b[38;5;66;03m# Note: Don't assign the subtask results to a variable. numpy detects\u001b[39;00m\n\u001b[0;32m    125\u001b[0m     \u001b[38;5;66;03m# temporaries by their reference count and can execute certain\u001b[39;00m\n\u001b[0;32m    126\u001b[0m     \u001b[38;5;66;03m# operations in-place.\u001b[39;00m\n\u001b[1;32m--> 127\u001b[0m     \u001b[38;5;28;01mreturn\u001b[39;00m \u001b[43mfunc\u001b[49m\u001b[43m(\u001b[49m\u001b[38;5;241;43m*\u001b[39;49m\u001b[43m(\u001b[49m\u001b[43m_execute_task\u001b[49m\u001b[43m(\u001b[49m\u001b[43ma\u001b[49m\u001b[43m,\u001b[49m\u001b[43m \u001b[49m\u001b[43mcache\u001b[49m\u001b[43m)\u001b[49m\u001b[43m \u001b[49m\u001b[38;5;28;43;01mfor\u001b[39;49;00m\u001b[43m \u001b[49m\u001b[43ma\u001b[49m\u001b[43m \u001b[49m\u001b[38;5;129;43;01min\u001b[39;49;00m\u001b[43m \u001b[49m\u001b[43margs\u001b[49m\u001b[43m)\u001b[49m\u001b[43m)\u001b[49m\n\u001b[0;32m    128\u001b[0m \u001b[38;5;28;01melif\u001b[39;00m \u001b[38;5;129;01mnot\u001b[39;00m ishashable(arg):\n\u001b[0;32m    129\u001b[0m     \u001b[38;5;28;01mreturn\u001b[39;00m arg\n",
      "File \u001b[1;32m~\\miniconda3\\envs\\abtem\\Lib\\site-packages\\dask\\array\\core.py:4402\u001b[0m, in \u001b[0;36mstore_chunk\u001b[1;34m(x, out, index, lock, return_stored)\u001b[0m\n\u001b[0;32m   4399\u001b[0m \u001b[38;5;28;01mdef\u001b[39;00m \u001b[38;5;21mstore_chunk\u001b[39m(\n\u001b[0;32m   4400\u001b[0m     x: ArrayLike, out: ArrayLike, index: \u001b[38;5;28mslice\u001b[39m, lock: Any, return_stored: \u001b[38;5;28mbool\u001b[39m\n\u001b[0;32m   4401\u001b[0m ):\n\u001b[1;32m-> 4402\u001b[0m     \u001b[38;5;28;01mreturn\u001b[39;00m \u001b[43mload_store_chunk\u001b[49m\u001b[43m(\u001b[49m\u001b[43mx\u001b[49m\u001b[43m,\u001b[49m\u001b[43m \u001b[49m\u001b[43mout\u001b[49m\u001b[43m,\u001b[49m\u001b[43m \u001b[49m\u001b[43mindex\u001b[49m\u001b[43m,\u001b[49m\u001b[43m \u001b[49m\u001b[43mlock\u001b[49m\u001b[43m,\u001b[49m\u001b[43m \u001b[49m\u001b[43mreturn_stored\u001b[49m\u001b[43m,\u001b[49m\u001b[43m \u001b[49m\u001b[38;5;28;43;01mFalse\u001b[39;49;00m\u001b[43m)\u001b[49m\n",
      "File \u001b[1;32m~\\miniconda3\\envs\\abtem\\Lib\\site-packages\\dask\\array\\core.py:4384\u001b[0m, in \u001b[0;36mload_store_chunk\u001b[1;34m(x, out, index, lock, return_stored, load_stored)\u001b[0m\n\u001b[0;32m   4382\u001b[0m \u001b[38;5;28;01mif\u001b[39;00m x \u001b[38;5;129;01mis\u001b[39;00m \u001b[38;5;129;01mnot\u001b[39;00m \u001b[38;5;28;01mNone\u001b[39;00m \u001b[38;5;129;01mand\u001b[39;00m x\u001b[38;5;241m.\u001b[39msize \u001b[38;5;241m!=\u001b[39m \u001b[38;5;241m0\u001b[39m:\n\u001b[0;32m   4383\u001b[0m     \u001b[38;5;28;01mif\u001b[39;00m is_arraylike(x):\n\u001b[1;32m-> 4384\u001b[0m         \u001b[43mout\u001b[49m\u001b[43m[\u001b[49m\u001b[43mindex\u001b[49m\u001b[43m]\u001b[49m \u001b[38;5;241m=\u001b[39m x\n\u001b[0;32m   4385\u001b[0m     \u001b[38;5;28;01melse\u001b[39;00m:\n\u001b[0;32m   4386\u001b[0m         out[index] \u001b[38;5;241m=\u001b[39m np\u001b[38;5;241m.\u001b[39masanyarray(x)\n",
      "File \u001b[1;32m~\\miniconda3\\envs\\abtem\\Lib\\site-packages\\zarr\\core.py:1495\u001b[0m, in \u001b[0;36mArray.__setitem__\u001b[1;34m(self, selection, value)\u001b[0m\n\u001b[0;32m   1493\u001b[0m     \u001b[38;5;28mself\u001b[39m\u001b[38;5;241m.\u001b[39mvindex[selection] \u001b[38;5;241m=\u001b[39m value\n\u001b[0;32m   1494\u001b[0m \u001b[38;5;28;01melif\u001b[39;00m is_pure_orthogonal_indexing(pure_selection, \u001b[38;5;28mself\u001b[39m\u001b[38;5;241m.\u001b[39mndim):\n\u001b[1;32m-> 1495\u001b[0m     \u001b[38;5;28;43mself\u001b[39;49m\u001b[38;5;241;43m.\u001b[39;49m\u001b[43mset_orthogonal_selection\u001b[49m\u001b[43m(\u001b[49m\u001b[43mpure_selection\u001b[49m\u001b[43m,\u001b[49m\u001b[43m \u001b[49m\u001b[43mvalue\u001b[49m\u001b[43m,\u001b[49m\u001b[43m \u001b[49m\u001b[43mfields\u001b[49m\u001b[38;5;241;43m=\u001b[39;49m\u001b[43mfields\u001b[49m\u001b[43m)\u001b[49m\n\u001b[0;32m   1496\u001b[0m \u001b[38;5;28;01melse\u001b[39;00m:\n\u001b[0;32m   1497\u001b[0m     \u001b[38;5;28mself\u001b[39m\u001b[38;5;241m.\u001b[39mset_basic_selection(pure_selection, value, fields\u001b[38;5;241m=\u001b[39mfields)\n",
      "File \u001b[1;32m~\\miniconda3\\envs\\abtem\\Lib\\site-packages\\zarr\\core.py:1684\u001b[0m, in \u001b[0;36mArray.set_orthogonal_selection\u001b[1;34m(self, selection, value, fields)\u001b[0m\n\u001b[0;32m   1681\u001b[0m \u001b[38;5;66;03m# setup indexer\u001b[39;00m\n\u001b[0;32m   1682\u001b[0m indexer \u001b[38;5;241m=\u001b[39m OrthogonalIndexer(selection, \u001b[38;5;28mself\u001b[39m)\n\u001b[1;32m-> 1684\u001b[0m \u001b[38;5;28;43mself\u001b[39;49m\u001b[38;5;241;43m.\u001b[39;49m\u001b[43m_set_selection\u001b[49m\u001b[43m(\u001b[49m\u001b[43mindexer\u001b[49m\u001b[43m,\u001b[49m\u001b[43m \u001b[49m\u001b[43mvalue\u001b[49m\u001b[43m,\u001b[49m\u001b[43m \u001b[49m\u001b[43mfields\u001b[49m\u001b[38;5;241;43m=\u001b[39;49m\u001b[43mfields\u001b[49m\u001b[43m)\u001b[49m\n",
      "File \u001b[1;32m~\\miniconda3\\envs\\abtem\\Lib\\site-packages\\zarr\\core.py:2038\u001b[0m, in \u001b[0;36mArray._set_selection\u001b[1;34m(self, indexer, value, fields)\u001b[0m\n\u001b[0;32m   2035\u001b[0m                 chunk_value \u001b[38;5;241m=\u001b[39m chunk_value[item]\n\u001b[0;32m   2037\u001b[0m         \u001b[38;5;66;03m# put data\u001b[39;00m\n\u001b[1;32m-> 2038\u001b[0m         \u001b[38;5;28;43mself\u001b[39;49m\u001b[38;5;241;43m.\u001b[39;49m\u001b[43m_chunk_setitem\u001b[49m\u001b[43m(\u001b[49m\u001b[43mchunk_coords\u001b[49m\u001b[43m,\u001b[49m\u001b[43m \u001b[49m\u001b[43mchunk_selection\u001b[49m\u001b[43m,\u001b[49m\u001b[43m \u001b[49m\u001b[43mchunk_value\u001b[49m\u001b[43m,\u001b[49m\u001b[43m \u001b[49m\u001b[43mfields\u001b[49m\u001b[38;5;241;43m=\u001b[39;49m\u001b[43mfields\u001b[49m\u001b[43m)\u001b[49m\n\u001b[0;32m   2039\u001b[0m \u001b[38;5;28;01melse\u001b[39;00m:\n\u001b[0;32m   2040\u001b[0m     lchunk_coords, lchunk_selection, lout_selection \u001b[38;5;241m=\u001b[39m \u001b[38;5;28mzip\u001b[39m(\u001b[38;5;241m*\u001b[39mindexer)\n",
      "File \u001b[1;32m~\\miniconda3\\envs\\abtem\\Lib\\site-packages\\zarr\\core.py:2304\u001b[0m, in \u001b[0;36mArray._chunk_setitem\u001b[1;34m(self, chunk_coords, chunk_selection, value, fields)\u001b[0m\n\u001b[0;32m   2301\u001b[0m     lock \u001b[38;5;241m=\u001b[39m \u001b[38;5;28mself\u001b[39m\u001b[38;5;241m.\u001b[39m_synchronizer[ckey]\n\u001b[0;32m   2303\u001b[0m \u001b[38;5;28;01mwith\u001b[39;00m lock:\n\u001b[1;32m-> 2304\u001b[0m     \u001b[38;5;28;43mself\u001b[39;49m\u001b[38;5;241;43m.\u001b[39;49m\u001b[43m_chunk_setitem_nosync\u001b[49m\u001b[43m(\u001b[49m\u001b[43mchunk_coords\u001b[49m\u001b[43m,\u001b[49m\u001b[43m \u001b[49m\u001b[43mchunk_selection\u001b[49m\u001b[43m,\u001b[49m\u001b[43m \u001b[49m\u001b[43mvalue\u001b[49m\u001b[43m,\u001b[49m\u001b[43m \u001b[49m\u001b[43mfields\u001b[49m\u001b[38;5;241;43m=\u001b[39;49m\u001b[43mfields\u001b[49m\u001b[43m)\u001b[49m\n",
      "File \u001b[1;32m~\\miniconda3\\envs\\abtem\\Lib\\site-packages\\zarr\\core.py:2314\u001b[0m, in \u001b[0;36mArray._chunk_setitem_nosync\u001b[1;34m(self, chunk_coords, chunk_selection, value, fields)\u001b[0m\n\u001b[0;32m   2312\u001b[0m     \u001b[38;5;28mself\u001b[39m\u001b[38;5;241m.\u001b[39m_chunk_delitem(ckey)\n\u001b[0;32m   2313\u001b[0m \u001b[38;5;28;01melse\u001b[39;00m:\n\u001b[1;32m-> 2314\u001b[0m     \u001b[38;5;28;43mself\u001b[39;49m\u001b[38;5;241;43m.\u001b[39;49m\u001b[43mchunk_store\u001b[49m\u001b[43m[\u001b[49m\u001b[43mckey\u001b[49m\u001b[43m]\u001b[49m \u001b[38;5;241m=\u001b[39m \u001b[38;5;28mself\u001b[39m\u001b[38;5;241m.\u001b[39m_encode_chunk(cdata)\n",
      "File \u001b[1;32m~\\miniconda3\\envs\\abtem\\Lib\\site-packages\\zarr\\storage.py:1154\u001b[0m, in \u001b[0;36mDirectoryStore.__setitem__\u001b[1;34m(self, key, value)\u001b[0m\n\u001b[0;32m   1151\u001b[0m \u001b[38;5;28;01mfinally\u001b[39;00m:\n\u001b[0;32m   1152\u001b[0m     \u001b[38;5;66;03m# clean up if temp file still exists for whatever reason\u001b[39;00m\n\u001b[0;32m   1153\u001b[0m     \u001b[38;5;28;01mif\u001b[39;00m os\u001b[38;5;241m.\u001b[39mpath\u001b[38;5;241m.\u001b[39mexists(temp_path):  \u001b[38;5;66;03m# pragma: no cover\u001b[39;00m\n\u001b[1;32m-> 1154\u001b[0m         os\u001b[38;5;241m.\u001b[39mremove(temp_path)\n",
      "\u001b[1;31mPermissionError\u001b[0m: [WinError 32] Processen kan ikke få adgang til filen, da den bruges af en anden proces: 'D:\\\\Dropbox\\\\pnm_group_retreat\\\\data\\\\map_2022_12_21_15_47\\\\.zarr\\\\382.0.0.10d1286e865248498c4289163d4c9c2e.partial'"
     ]
    }
   ],
   "source": [
    "images.to_zarr(dirname + \".zarr\", overwrite=True)"
   ]
  },
  {
   "cell_type": "code",
   "execution_count": null,
   "id": "ecdda94a-669c-4093-b347-c0c339066122",
   "metadata": {},
   "outputs": [],
   "source": [
    "plt.imshow(filtered_images[50])"
   ]
  }
 ],
 "metadata": {
  "kernelspec": {
   "display_name": "Python 3 (ipykernel)",
   "language": "python",
   "name": "python3"
  },
  "language_info": {
   "codemirror_mode": {
    "name": "ipython",
    "version": 3
   },
   "file_extension": ".py",
   "mimetype": "text/x-python",
   "name": "python",
   "nbconvert_exporter": "python",
   "pygments_lexer": "ipython3",
   "version": "3.11.7"
  },
  "widgets": {
   "application/vnd.jupyter.widget-state+json": {
    "state": {},
    "version_major": 2,
    "version_minor": 0
   }
  }
 },
 "nbformat": 4,
 "nbformat_minor": 5
}
